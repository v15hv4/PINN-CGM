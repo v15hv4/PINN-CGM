{
 "cells": [
  {
   "cell_type": "code",
   "execution_count": 1,
   "metadata": {},
   "outputs": [
    {
     "name": "stderr",
     "output_type": "stream",
     "text": [
      "Using backend: pytorch\n",
      "Other supported backends: tensorflow.compat.v1, tensorflow, jax, paddle.\n",
      "paddle supports more examples now and is recommended.\n"
     ]
    }
   ],
   "source": [
    "import torch\n",
    "import numpy as np\n",
    "import pandas as pd\n",
    "import deepxde as dde\n",
    "import seaborn as sns\n",
    "import matplotlib.pyplot as plt\n",
    "\n",
    "from utils import dt2int\n",
    "from collections import namedtuple"
   ]
  },
  {
   "cell_type": "code",
   "execution_count": 2,
   "metadata": {},
   "outputs": [],
   "source": [
    "# better plots\n",
    "sns.set_style(\"whitegrid\")"
   ]
  },
  {
   "cell_type": "code",
   "execution_count": 3,
   "metadata": {},
   "outputs": [
    {
     "name": "stdout",
     "output_type": "stream",
     "text": [
      "Using device: cuda\n"
     ]
    }
   ],
   "source": [
    "device = torch.device(\"cuda\" if torch.cuda.is_available else \"cpu\")\n",
    "print(\"Using device:\", device)"
   ]
  },
  {
   "cell_type": "code",
   "execution_count": 4,
   "metadata": {},
   "outputs": [],
   "source": [
    "# load parameters\n",
    "orig_params = pd.read_csv(\"parameters/vpatient_params.csv\")\n",
    "mean_params = orig_params.mean(numeric_only=True)\n",
    "est_params = [\"kp2\", \"k1\", \"k2\", \"kp1\", \"ki\", \"ke1\", \"kmax\", \"kmin\", \"kabs\", \"kp3\"]\n",
    "\n",
    "adult_params = orig_params[orig_params.Name.str.contains(\"adult\")].loc[:, est_params]\n",
    "p_range = torch.stack([torch.from_numpy(adult_params.min().to_numpy()), torch.from_numpy(adult_params.max().to_numpy())], axis=1)\n",
    "def get_param(p, p_min, p_max):\n",
    "    return ((torch.tanh(p) + 1) / 2) * (p_max - p_min) + p_min"
   ]
  },
  {
   "cell_type": "code",
   "execution_count": 5,
   "metadata": {},
   "outputs": [],
   "source": [
    "# clean up \n",
    "mean_params = mean_params.rename(lambda x: x.replace(\" \", \"\"))"
   ]
  },
  {
   "cell_type": "code",
   "execution_count": 6,
   "metadata": {},
   "outputs": [],
   "source": [
    "# read and preprocess data\n",
    "data = pd.read_csv(\"results/adult#001.csv\")\n",
    "\n",
    "# destructure data\n",
    "data_t = data[\"Time\"].map(lambda d: dt2int(d, fmt=\"%Y-%m-%d %H:%M:%S.%f\")).to_numpy()\n",
    "data_BG = data[\"BG\"].to_numpy()\n",
    "data_CGM = data[\"CGM\"].to_numpy()\n",
    "data_CHO = data[\"CHO\"].to_numpy()\n",
    "data_insulin = data[\"insulin\"].to_numpy()\n",
    "\n",
    "# normalize time\n",
    "data_t -= data_t[0]\n",
    "\n",
    "# scale down to minutes\n",
    "data_t = data_t / 60.0\n",
    "\n",
    "# clean\n",
    "data_CHO = np.nan_to_num(data_CHO, nan=data_CHO[0])\n",
    "data_insulin = np.nan_to_num(data_insulin, nan=data_insulin[0])"
   ]
  },
  {
   "cell_type": "code",
   "execution_count": 7,
   "metadata": {},
   "outputs": [],
   "source": [
    "# system parameters\n",
    "kp2  = dde.Variable(mean_params[\"kp2\"]) \n",
    "k1   = dde.Variable(mean_params[\"k1\"])\n",
    "k2   = dde.Variable(mean_params[\"k2\"])\n",
    "kp1  = dde.Variable(mean_params[\"kp1\"])\n",
    "ki   = dde.Variable(mean_params[\"ki\"])\n",
    "ke1  = dde.Variable(mean_params[\"ke1\"])\n",
    "kmax = dde.Variable(mean_params[\"kmax\"])\n",
    "kmin = dde.Variable(mean_params[\"kmin\"])\n",
    "kabs = dde.Variable(mean_params[\"kabs\"])\n",
    "kp3  = dde.Variable(mean_params[\"kp3\"])\n",
    "p_list_ = [kp2, k1, k2, kp1, ki, ke1, kmax, kmin, kabs, kp3]"
   ]
  },
  {
   "cell_type": "code",
   "execution_count": 8,
   "metadata": {},
   "outputs": [],
   "source": [
    "# required data structures\n",
    "Parameters = namedtuple(\"parameters\", list(mean_params.keys()))\n",
    "Action = namedtuple(\"patient_action\", ['CHO', 'insulin'])"
   ]
  },
  {
   "cell_type": "code",
   "execution_count": 9,
   "metadata": {},
   "outputs": [],
   "source": [
    "# convert to tensors\n",
    "in_time = torch.from_numpy(data_t).float().to(device)\n",
    "in_CHO = torch.from_numpy(data_CHO).float().to(device)\n",
    "in_insulin = torch.from_numpy(data_insulin).float().to(device)\n",
    "in_CGM = torch.from_numpy(data_CGM).float().to(device)"
   ]
  },
  {
   "cell_type": "code",
   "execution_count": 10,
   "metadata": {},
   "outputs": [],
   "source": [
    "def ode(t, x):\n",
    "    # instantiate derivatives\n",
    "    dxdt = torch.zeros(13)\n",
    "\n",
    "    # parameters\n",
    "    params = Parameters(\n",
    "        i=mean_params.i,\n",
    "        x0_1=mean_params.x0_1,\n",
    "        x0_2=mean_params.x0_2,\n",
    "        x0_3=mean_params.x0_3,\n",
    "        x0_4=mean_params.x0_4,\n",
    "        x0_5=mean_params.x0_5,\n",
    "        x0_6=mean_params.x0_6,\n",
    "        x0_7=mean_params.x0_7,\n",
    "        x0_8=mean_params.x0_8,\n",
    "        x0_9=mean_params.x0_9,\n",
    "        x0_10=mean_params.x0_10,\n",
    "        x0_11=mean_params.x0_11,\n",
    "        x0_12=mean_params.x0_12,\n",
    "        x0_13=mean_params.x0_13,\n",
    "        BW=mean_params.BW,\n",
    "        EGPb=mean_params.EGPb,\n",
    "        Gb=mean_params.Gb,\n",
    "        Ib=mean_params.Ib,\n",
    "        kabs=get_param(kabs, adult_params.min()[\"kabs\"], adult_params.max()[\"kabs\"]),\n",
    "        kmax=get_param(kmax, adult_params.min()[\"kmax\"], adult_params.max()[\"kmax\"]),\n",
    "        kmin=get_param(kmin, adult_params.min()[\"kmin\"], adult_params.max()[\"kmin\"]),\n",
    "        b=mean_params.b,\n",
    "        d=mean_params.d,\n",
    "        Vg=mean_params.Vg,\n",
    "        Vi=mean_params.Vi,\n",
    "        Ipb=mean_params.Ipb,\n",
    "        Vmx=mean_params.Vmx,\n",
    "        Km0=mean_params.Km0,\n",
    "        k2=get_param(k2, adult_params.min()[\"k2\"], adult_params.max()[\"k2\"]),\n",
    "        k1=get_param(k1, adult_params.min()[\"k1\"], adult_params.max()[\"k1\"]),\n",
    "        p2u=mean_params.p2u,\n",
    "        m1=mean_params.m1,\n",
    "        m5=mean_params.m5,\n",
    "        CL=mean_params.CL,\n",
    "        HEb=mean_params.HEb,\n",
    "        m2=mean_params.m2,\n",
    "        m4=mean_params.m4,\n",
    "        m30=mean_params.m30,\n",
    "        Ilb=mean_params.Ilb,\n",
    "        ki=get_param(ki, adult_params.min()[\"ki\"], adult_params.max()[\"ki\"]),\n",
    "        kp2=get_param(kp2, adult_params.min()[\"kp2\"], adult_params.max()[\"kp2\"]),\n",
    "        kp3=get_param(kp3, adult_params.min()[\"kp3\"], adult_params.max()[\"kp3\"]),\n",
    "        f=mean_params.f,\n",
    "        Gpb=mean_params.Gpb,\n",
    "        ke1=get_param(ke1, adult_params.min()[\"ke1\"], adult_params.max()[\"ke1\"]),\n",
    "        ke2=mean_params.ke2,\n",
    "        Fsnc=mean_params.Fsnc,\n",
    "        Gtb=mean_params.Gtb,\n",
    "        Vm0=mean_params.Vm0,\n",
    "        Rdb=mean_params.Rdb,\n",
    "        PCRb=mean_params.PCRb,\n",
    "        kd=mean_params.kd,\n",
    "        ksc=mean_params.ksc,\n",
    "        ka1=mean_params.ka1,\n",
    "        ka2=mean_params.ka2,\n",
    "        dosekempt=mean_params.dosekempt,\n",
    "        u2ss=mean_params.u2ss,\n",
    "        isc1ss=mean_params.isc1ss,\n",
    "        isc2ss=mean_params.isc2ss,\n",
    "        kp1=get_param(kp1, adult_params.min()[\"kp1\"], adult_params.max()[\"kp1\"]),\n",
    "        patient_history=mean_params.patient_history,\n",
    "    )\n",
    "\n",
    "    # get current action\n",
    "    t_mask = torch.abs(in_time - t).argmin(dim=1)\n",
    "    action = Action(CHO=in_CHO[t_mask], insulin=in_insulin[t_mask])\n",
    "\n",
    "    d = action.CHO * 1000 # g -> mg\n",
    "    insulin = action.insulin * 6000 / params.BW\n",
    "    # basal = action.insulin[0]\n",
    "\n",
    "    # glucose in the stomach\n",
    "    qsto = x[:, 0:1] + x[:, 1:2]\n",
    "\n",
    "    # last_foodtaken = 0\n",
    "    # if t_mask > 0:\n",
    "    #     last_foodtaken = action.CHO[t_mask - 1]\n",
    "    last_foodtaken = torch.where(t_mask > 0, action.CHO[t_mask - 1], torch.zeros(1))\n",
    "    \n",
    "    Dbar = last_foodtaken * 1000 # unit: mg\n",
    "\n",
    "    # stomach solid\n",
    "    dxdt0 = -params.kmax * x[:, 0:1] + d\n",
    "\n",
    "    aa = 5 / 2 / (1 - params.b) / Dbar\n",
    "    cc = 5 / 2 / params.d / Dbar\n",
    "    kgut = params.kmin + (params.kmax - params.kmin) / 2 * (\n",
    "        torch.tanh(aa * (qsto - params.b * Dbar))\n",
    "        - torch.tanh(cc * (qsto - params.d * Dbar))\n",
    "        + 2\n",
    "    )\n",
    "\n",
    "    kgut = torch.where(Dbar > 0, kgut, params.kmax)\n",
    "\n",
    "    # stomach liquid\n",
    "    dxdt1 = params.kmax * x[:, 0:1] - x[:, 1:2] * kgut\n",
    "\n",
    "    # intestine\n",
    "    dxdt2 = kgut * x[:, 1:2] - params.kabs * x[:, 2:3]\n",
    "\n",
    "    # Rate of appearance\n",
    "    Rat = params.f * params.kabs * x[:, 2:3] / params.BW\n",
    "    # Glucose Production\n",
    "    EGPt = params.kp1 - params.kp2 * x[:, 3:4] - params.kp3 * x[:, 8:9]\n",
    "    # Glucose Utilization\n",
    "    Uiit = params.Fsnc\n",
    "\n",
    "    # renal excretion\n",
    "    Et = torch.where(x[:, 3:4] > params.ke2, params.ke1 * (x[:, 3:4] - params.ke2), 0)\n",
    "    # if x[:, 3:4] > params.ke2:\n",
    "    #     Et = params.ke1 * (x[:, 3:4] - params.ke2)\n",
    "    # else:\n",
    "    #     Et = 0\n",
    "\n",
    "    # glucose kinetics\n",
    "    # plus dextrose IV injection input u[2] if needed\n",
    "    eEGPt = torch.where(EGPt < 0, 0, EGPt)\n",
    "    dxdt3 = eEGPt + Rat - Uiit - Et - params.k1 * x[:, 3:4] + params.k2 * x[:, 4:5]\n",
    "    dxdt3 = (x[:, 3:4] >= 0) * dxdt3\n",
    "\n",
    "    Vmt = params.Vm0 + params.Vmx * x[:, 6:7]\n",
    "    Kmt = params.Km0\n",
    "    Uidt = Vmt * x[:, 4:5] / (Kmt + x[:, 4:5])\n",
    "    dxdt4 = -Uidt + params.k1 * x[:, 3:4] - params.k2 * x[:, 4:5]\n",
    "    dxdt4 = (x[:, 4:5] >= 0) * dxdt4\n",
    "\n",
    "    # insulin kinetics\n",
    "    dxdt5 = (\n",
    "        -(params.m2 + params.m4) * x[:, 5:6]\n",
    "        + params.m1 * x[:, 9:10]\n",
    "        + params.ka1 * x[:, 10:11]\n",
    "        + params.ka2 * x[:, 11:12]\n",
    "    )  # plus insulin IV injection u[3] if needed\n",
    "    It = x[:, 5:6] / params.Vi\n",
    "    dxdt5 = (x[:, 5:6] >= 0) * dxdt5\n",
    "\n",
    "    # insulin in_on glucose utilization\n",
    "    dxdt6 = -params.p2u * x[:, 6:7] + params.p2u * (It - params.Ib)\n",
    "\n",
    "    # insulin in_on production\n",
    "    dxdt7 = -params.ki * (x[:, 7:8] - It)\n",
    "\n",
    "    dxdt8 = -params.ki * (x[:, 8:9] - x[:, 7:8])\n",
    "\n",
    "    # insulin in the liver (pmol/kg)\n",
    "    dxdt9 = -(params.m1 + params.m30) * x[:, 9:10] + params.m2 * x[:, 5:6]\n",
    "    dxdt9 = (x[:, 9:10] >= 0) * dxdt9\n",
    "\n",
    "    # subcutaneous insulin kinetics\n",
    "    dxdt10 = insulin - (params.ka1 + params.kd) * x[:, 10:11]\n",
    "    dxdt10 = (x[:, 10:11] >= 0) * dxdt10\n",
    "\n",
    "    dxdt11 = params.kd * x[10] - params.ka2 * x[11]\n",
    "    dxdt11 = (x[:, 11:12] >= 0) * dxdt11\n",
    "\n",
    "    # subcutaneous glucose\n",
    "    dxdt12 = -params.ksc * x[12] + params.ksc * x[:, 3:4]\n",
    "    dxdt12 = (x[:, 12:13] >= 0) * dxdt12\n",
    "\n",
    "    grad0 = dde.grad.jacobian(x, t, i=0)\n",
    "    grad1 = dde.grad.jacobian(x, t, i=1)\n",
    "    grad2 = dde.grad.jacobian(x, t, i=2)\n",
    "    grad3 = dde.grad.jacobian(x, t, i=3)\n",
    "    grad4 = dde.grad.jacobian(x, t, i=4)\n",
    "    grad5 = dde.grad.jacobian(x, t, i=5)\n",
    "    grad6 = dde.grad.jacobian(x, t, i=6)\n",
    "    grad7 = dde.grad.jacobian(x, t, i=7)\n",
    "    grad8 = dde.grad.jacobian(x, t, i=8)\n",
    "    grad9 = dde.grad.jacobian(x, t, i=9)\n",
    "    grad10 = dde.grad.jacobian(x, t, i=10)\n",
    "    grad11 = dde.grad.jacobian(x, t, i=11)\n",
    "    grad12 = dde.grad.jacobian(x, t, i=12)\n",
    "\n",
    "    return [\n",
    "        grad0 - dxdt0,\n",
    "        grad1 - dxdt1,\n",
    "        grad2 - dxdt2,\n",
    "        grad3 - dxdt3,\n",
    "        grad4 - dxdt4,\n",
    "        grad5 - dxdt5,\n",
    "        grad6 - dxdt6,\n",
    "        grad7 - dxdt7,\n",
    "        grad8 - dxdt8,\n",
    "        grad9 - dxdt9,\n",
    "        grad10 - dxdt10,\n",
    "        grad11 - dxdt11,\n",
    "        grad12 - dxdt12,\n",
    "    ]"
   ]
  },
  {
   "cell_type": "code",
   "execution_count": 11,
   "metadata": {},
   "outputs": [],
   "source": [
    "# time domain\n",
    "geom = dde.geometry.TimeDomain(data_t[0], data_t[-1])"
   ]
  },
  {
   "cell_type": "code",
   "execution_count": 12,
   "metadata": {},
   "outputs": [],
   "source": [
    "# dataset\n",
    "num_interior = 4094\n",
    "num_boundary = 2\n",
    "num_test = 1000"
   ]
  },
  {
   "cell_type": "code",
   "execution_count": 13,
   "metadata": {},
   "outputs": [],
   "source": [
    "# load boundary conditions (for x) from experimental data\n",
    "ds_t = data_t.reshape(-1, 1)\n",
    "ds_x = data_CGM.reshape(-1, 1)\n",
    "\n",
    "observations = dde.PointSetBC(ds_t, ds_x, component=12)\n",
    "\n",
    "data = dde.data.PDE(geom, ode, [], num_interior, num_boundary, num_test=num_test, anchors=ds_t)"
   ]
  },
  {
   "cell_type": "code",
   "execution_count": 14,
   "metadata": {},
   "outputs": [
    {
     "data": {
      "image/png": "[encoded data removed]",
      "text/plain": [
       "<Figure size 640x480 with 1 Axes>"
      ]
     },
     "metadata": {},
     "output_type": "display_data"
    }
   ],
   "source": [
    "# visualize dataset\n",
    "plt.scatter(ds_t, ds_x, s=2, color=\"b\")\n",
    "plt.show()"
   ]
  },
  {
   "cell_type": "code",
   "execution_count": 15,
   "metadata": {},
   "outputs": [],
   "source": [
    "# network architecture\n",
    "layers = [1] + [64] * 6 + [13]\n",
    "activation = \"swish\"\n",
    "initializer = \"Glorot normal\"\n",
    "net = dde.nn.FNN(layers, activation, initializer)"
   ]
  },
  {
   "cell_type": "code",
   "execution_count": 16,
   "metadata": {},
   "outputs": [],
   "source": [
    "# instantiate model\n",
    "model = dde.Model(data, net)"
   ]
  },
  {
   "cell_type": "code",
   "execution_count": 17,
   "metadata": {},
   "outputs": [
    {
     "name": "stdout",
     "output_type": "stream",
     "text": [
      "Compiling model...\n",
      "'compile' took 0.000270 s\n",
      "\n",
      "Training model...\n",
      "\n",
      "Step      Train loss                                                                                                                            Test loss                                                                                                                             Test metric\n",
      "0         [0.00e+00, 0.00e+00, 0.00e+00, 0.00e+00, 0.00e+00, 0.00e+00, 0.00e+00, 0.00e+00, 0.00e+00, 0.00e+00, 0.00e+00, 0.00e+00, 1.64e-02]    [0.00e+00, 0.00e+00, 0.00e+00, 0.00e+00, 0.00e+00, 0.00e+00, 0.00e+00, 0.00e+00, 0.00e+00, 0.00e+00, 0.00e+00, 0.00e+00, 1.65e-02]    []  \n",
      "100       [nan, nan, nan, nan, nan, nan, nan, nan, nan, nan, nan, nan, nan]                                                                     [nan, nan, nan, nan, nan, nan, nan, nan, nan, nan, nan, nan, nan]                                                                     []  \n",
      "\n",
      "Best model at step 0:\n",
      "  train loss: 1.64e-02\n",
      "  test loss: 1.65e-02\n",
      "  test metric: []\n",
      "\n",
      "'train' took 7.917919 s\n",
      "\n"
     ]
    }
   ],
   "source": [
    "# train with ADAM (fully supervised)\n",
    "iterations = 100\n",
    "model.compile(\"adam\", lr=1e-3, loss_weights=[0, 0, 0, 0, 0, 0, 0, 0, 0, 0, 0, 0, 1e-2])\n",
    "loss_history, train_state = model.train(iterations=iterations)"
   ]
  },
  {
   "cell_type": "code",
   "execution_count": null,
   "metadata": {},
   "outputs": [],
   "source": []
  }
 ],
 "metadata": {
  "kernelspec": {
   "display_name": "v",
   "language": "python",
   "name": "python3"
  },
  "language_info": {
   "codemirror_mode": {
    "name": "ipython",
    "version": 3
   },
   "file_extension": ".py",
   "mimetype": "text/x-python",
   "name": "python",
   "nbconvert_exporter": "python",
   "pygments_lexer": "ipython3",
   "version": "3.10.8"
  },
  "orig_nbformat": 4
 },
 "nbformat": 4,
 "nbformat_minor": 2
}
