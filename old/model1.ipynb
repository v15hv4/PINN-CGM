{
 "cells": [
  {
   "cell_type": "code",
   "execution_count": 1,
   "metadata": {},
   "outputs": [],
   "source": [
    "import numpy as np\n",
    "import seaborn as sns\n",
    "import multiprocessing as mp\n",
    "import matplotlib.pyplot as plt\n",
    "\n",
    "from data import C3RData, interpolate\n",
    "from scipy.integrate import solve_ivp\n",
    "\n",
    "from tqdm import trange\n",
    "from deap import base, creator, tools, cma"
   ]
  },
  {
   "cell_type": "code",
   "execution_count": 2,
   "metadata": {},
   "outputs": [],
   "source": [
    "# better graphs\n",
    "sns.set()"
   ]
  },
  {
   "cell_type": "code",
   "execution_count": 3,
   "metadata": {},
   "outputs": [],
   "source": [
    "def ode(t, u, p_est, p_fix, t_range, D_t, U_t):\n",
    "    # states\n",
    "    G_p, G_t, I_l, I_p, I_1, I_d, Q_sto1, Q_sto2, Q_gut, X, I_sc1, I_sc2 = u\n",
    "\n",
    "    # parameters\n",
    "    k_p2, k_1, k_2, k_p1, k_i, k_e1, k_max, k_min, k_abs, k_p3, k_gri = p_est\n",
    "    F_cns, k_e2, f, BW, V_m0, V_mx, K_m0, K_mx, m_2, m_1, m_6, k_a1, m_4, k_a2, V_I, a, b, c, d, p_2U, I_b, k_d = p_fix\n",
    "\n",
    "    # meal intake\n",
    "    D = D_t[np.abs(t_range - t).argmin()]\n",
    "\n",
    "    # insulin infusion rate\n",
    "    U = U_t[np.abs(t_range - t).argmin()]\n",
    "\n",
    "    dG_p = k_p1 - F_cns - (k_1 * G_p) + (k_2 * G_t) - (k_p2 * G_p) - (k_p3 * I_d) + (k_e1 * (k_e2 - G_p)) + ((f * k_abs * Q_gut)/BW)\n",
    "    dG_t = (k_1 * G_p) - (k_2 * G_t) - ((G_t * (V_m0 + (V_mx * X))) / (K_m0 + G_t + (K_mx * X)))\n",
    "    dI_l = (m_2 * I_p) - I_l * (m_1 - ((m_1 * m_6) / (m_6 - 1)))\n",
    "    dI_p = (k_a1 * I_sc1) - (I_p * (m_2 + m_4)) + (k_a2 * I_sc2) + (m_1 * I_l)\n",
    "    dI_1 = -k_i * (I_1 - (I_p / V_I))\n",
    "    dI_d = k_i * (I_1 - I_d)\n",
    "    dQ_sto1 = (-k_gri * Q_sto1) + D\n",
    "    dQ_sto2 = (k_gri * Q_sto1) - Q_sto2 * (k_min + ((k_max / 2) - (k_min / 2)) * (np.tanh(a * (Q_sto1 + Q_sto2 - (b * D))) - np.tanh(c * (Q_sto1 + Q_sto2 - (d * D))) + 2))\n",
    "    dQ_gut = Q_sto2 * (k_min + ((k_max / 2) - (k_min / 2)) * (np.tanh(a * (Q_sto1 + Q_sto2 - (b * D))) - np.tanh(c * (Q_sto1 + Q_sto2 - (d * D))) + 2)) - (k_abs * Q_gut)\n",
    "    dX = -p_2U * (I_b - (I_p / V_I)) - (p_2U * X)\n",
    "    dI_sc1 = U - (I_sc1 * (k_a1 + k_d))\n",
    "    dI_sc2 = (k_d * I_sc1) - (k_a2 * I_sc2)\n",
    "\n",
    "    return [dG_p, dG_t, dI_l, dI_p, dI_1, dI_d, dQ_sto1, dQ_sto2, dQ_gut, dX, dI_sc1, dI_sc2]"
   ]
  },
  {
   "cell_type": "code",
   "execution_count": 4,
   "metadata": {},
   "outputs": [],
   "source": [
    "# inputs\n",
    "t_span = (0, 100)\n",
    "t_range = np.linspace(*t_span, 100)\n",
    "\n",
    "D_t = np.zeros_like(t_range)\n",
    "U_t = 0.1 * np.ones_like(t_range)\n",
    "\n",
    "D_t[np.abs(t_range - 20).argmin()] = 50\n",
    "D_t[np.abs(t_range - 50).argmin()] = 80\n",
    "D_t[np.abs(t_range - 60).argmin()] = 40\n",
    "\n",
    "U_t[np.abs(t_range - 20).argmin()] = 4\n",
    "U_t[np.abs(t_range - 50).argmin()] = 8\n",
    "U_t[np.abs(t_range - 60).argmin()] = 3"
   ]
  },
  {
   "cell_type": "code",
   "execution_count": 5,
   "metadata": {},
   "outputs": [],
   "source": [
    "# fixed parameters\n",
    "F_cns = 1\n",
    "k_e2 = 339\n",
    "f = 0.90\n",
    "BW = 60\n",
    "V_m0 = 2.50\n",
    "V_mx = 0.047\n",
    "K_m0 = 225.59\n",
    "K_mx = 0.0 # ?\n",
    "m_2 = 0.484\n",
    "m_1 = 0.190\n",
    "m_6 = 0.6471\n",
    "k_a1 = 0.0018\n",
    "m_4 = 0.194\n",
    "k_a2 = 0.0182\n",
    "V_I = 0.05\n",
    "a = 0.000013\n",
    "b = 0.82\n",
    "c = 0.00236\n",
    "d = 0.01\n",
    "p_2U = 0.0331\n",
    "I_b = 25.49\n",
    "k_d = 0.0164\n",
    "p_fix = [F_cns, k_e2, f, BW, V_m0, V_mx, K_m0, K_mx, m_2, m_1, m_6, k_a1, m_4, k_a2, V_I, a, b, c, d, p_2U, I_b, k_d]"
   ]
  },
  {
   "cell_type": "code",
   "execution_count": 6,
   "metadata": {},
   "outputs": [],
   "source": [
    "# parameters to estimate\n",
    "# k_p2 = 0.0021\n",
    "# k_1 = 0.065\n",
    "# k_2 = 0.079\n",
    "# k_p1 = 2.70\n",
    "# k_i = 0.0079\n",
    "# k_e1 = 0.0005\n",
    "# k_max = 0.0558\n",
    "# k_min = 0.0080\n",
    "# k_abs = 0.057\n",
    "# k_p3 = 0.009\n",
    "# k_gri = 0.0558\n",
    "# p_est = [k_p2, k_1, k_2, k_p1, k_i, k_e1, k_max, k_min, k_abs, k_p3, k_gri]\n",
    "\n",
    "# initial conditions\n",
    "# G_p_0 = 100.0\n",
    "# G_t_0 = 20.0\n",
    "# I_l_0 = 1.0\n",
    "# I_p_0 = 1.0\n",
    "I_1_0 = 25.49 # ?\n",
    "I_d_0 = 25.49 # ?\n",
    "# Q_sto1_0 = 100.0\n",
    "# Q_sto2_0 = 100.0\n",
    "# Q_gut_0 = 100.0\n",
    "X_0 = 150 # ?\n",
    "# I_sc1_0 = 500.0\n",
    "# I_sc2_0 = 200.0\n",
    "\n",
    "# u0 = [G_p_0, G_t_0, I_l_0, I_p_0, I_1_0, I_d_0, Q_sto1_0, Q_sto2_0, Q_gut_0, X_0, I_sc1_0, I_sc2_0]"
   ]
  },
  {
   "cell_type": "code",
   "execution_count": 7,
   "metadata": {},
   "outputs": [],
   "source": [
    "# load dataset\n",
    "c3r = C3RData(data_dir=\"data\")\n",
    "\n",
    "# get data for a certain case\n",
    "deident_id = 2\n",
    "from_dt = f\"2014-05-05 00:00:00\"\n",
    "to_dt = f\"2014-05-08 00:00:00\"\n",
    "\n",
    "cgm_data, meal_data, insulin_data = c3r.get_case(deident_id, from_dt, to_dt)\n",
    "t, cgm, meal, insulin = interpolate(cgm_data, meal_data, insulin_data)\n",
    "\n",
    "t -= t[0]"
   ]
  },
  {
   "cell_type": "code",
   "execution_count": 8,
   "metadata": {},
   "outputs": [],
   "source": [
    "def objective(p, t, cgm, meal, insulin, p_fix):\n",
    "    p_u0 = p[:9]\n",
    "    p_est = p[9:]\n",
    "\n",
    "    t_span = (t[0], t[-1])\n",
    "    u0 = [p_u0[0], p_u0[1], p_u0[2], p_u0[3], I_1_0, I_d_0, p_u0[4], p_u0[5], p_u0[6], X_0, p_u0[7], p_u0[8]]\n",
    "\n",
    "    # solve ODE\n",
    "    sol = solve_ivp(lambda t, y: ode(t, y, p_est, p_fix, t, meal, insulin), t_span, u0, t_eval=t, method=\"BDF\")\n",
    "\n",
    "    # calculate MSE\n",
    "    loss = np.sum((sol.y[9, :] - cgm) ** 2)\n",
    "\n",
    "    return loss\n",
    "\n",
    "\n",
    "def simulate(p, t, cgm, meal, insulin, p_fix):\n",
    "    p_u0 = p[:9]\n",
    "    p_est = p[9:]\n",
    "\n",
    "    t_span = (t[0], t[-1])\n",
    "    u0 = [p_u0[0], p_u0[1], p_u0[2], p_u0[3], I_1_0, I_d_0, p_u0[4], p_u0[5], p_u0[6], X_0, p_u0[7], p_u0[8]]\n",
    "\n",
    "    # solve ODE\n",
    "    sol = solve_ivp(lambda t, y: ode(t, y, p_est, p_fix, t, meal, insulin), t_span, u0, t_eval=t, method=\"BDF\")\n",
    "\n",
    "    return sol"
   ]
  },
  {
   "cell_type": "code",
   "execution_count": 9,
   "metadata": {},
   "outputs": [],
   "source": [
    "p_min = 0.01\n",
    "p_max = 500.0\n",
    "p_len = 9 + 11\n",
    "p_range = np.vstack((p_min * np.ones(p_len), p_max * np.ones(p_len))).T\n",
    "\n",
    "def constrain_parameters(p):\n",
    "    return ((np.tanh(p) + 1) / 2) * (p_range[:, 1] - p_range[:, 0]) + p_range[:, 0]"
   ]
  },
  {
   "cell_type": "code",
   "execution_count": 10,
   "metadata": {},
   "outputs": [],
   "source": [
    "# evolutionary algorithm parameters\n",
    "NGEN = 100\n",
    "SIGMA = 0.5\n",
    "LAMBDA = 50\n",
    "\n",
    "# target function\n",
    "def evaluate(p):\n",
    "    try:\n",
    "        return [objective(p, t, cgm, meal, insulin, p_fix)]\n",
    "    except:\n",
    "        return [1e10]\n",
    "\n",
    "# evolutionary algorithm setup\n",
    "creator.create(\"FitnessMin\", base.Fitness, weights=[-1.0])\n",
    "creator.create(\"Individual\", list, fitness=creator.FitnessMin)\n",
    "\n",
    "toolbox = base.Toolbox()\n",
    "toolbox.register(\"evaluate\", evaluate)\n",
    "\n",
    "# enable multiprocessing\n",
    "pool = mp.Pool()\n",
    "toolbox.register(\"map\", pool.map)\n",
    "\n",
    "# inital parameter guess\n",
    "p_guess = p_range.mean(1)\n",
    "\n",
    "# CMA-ES\n",
    "strategy = cma.Strategy(centroid=p_guess, sigma=SIGMA, lambda_=LAMBDA)\n",
    "toolbox.register(\"generate\", strategy.generate, creator.Individual)\n",
    "toolbox.register(\"update\", strategy.update)\n",
    "\n",
    "# track best individuals\n",
    "hof = tools.HallOfFame(1)\n",
    "stats = tools.Statistics(lambda i: i.fitness.values)\n",
    "stats.register(\"avg_loss\", np.mean)\n",
    "stats.register(\"min_loss\", np.min)\n",
    "stats.register(\"max_loss\", np.max)\n",
    "\n",
    "# train loop\n",
    "def train(toolbox, ngen, stats, halloffame):\n",
    "    for _ in trange(ngen, unit=\"generation\"):\n",
    "        # generate a new population\n",
    "        population = toolbox.generate()\n",
    "\n",
    "        # evaluate the individuals\n",
    "        fitnesses = toolbox.map(toolbox.evaluate, population)\n",
    "        for ind, fit in zip(population, fitnesses):\n",
    "            ind.fitness.values = fit\n",
    "\n",
    "        if halloffame is not None:\n",
    "            halloffame.update(population)\n",
    "\n",
    "        # update the strategy with the evaluated individuals\n",
    "        toolbox.update(population)\n",
    "\n",
    "        record = stats.compile(population) if stats is not None else {}"
   ]
  },
  {
   "cell_type": "code",
   "execution_count": 11,
   "metadata": {},
   "outputs": [
    {
     "name": "stderr",
     "output_type": "stream",
     "text": [
      " 18%|█▊        | 18/100 [00:39<03:01,  2.22s/generation]\n"
     ]
    },
    {
     "name": "stderr",
     "output_type": "stream",
     "text": [
      "/tmp/ipykernel_32087/701646353.py:15: RuntimeWarning: overflow encountered in double_scalars\n",
      "  dG_p = k_p1 - F_cns - (k_1 * G_p) + (k_2 * G_t) - (k_p2 * G_p) - (k_p3 * I_d) + (k_e1 * (k_e2 - G_p)) + ((f * k_abs * Q_gut)/BW)\n",
      "/tmp/ipykernel_32087/701646353.py:16: RuntimeWarning: overflow encountered in double_scalars\n",
      "  dG_t = (k_1 * G_p) - (k_2 * G_t) - ((G_t * (V_m0 + (V_mx * X))) / (K_m0 + G_t + (K_mx * X)))\n",
      "/home2/vishva.saravanan/miniconda3/envs/v/lib/python3.10/site-packages/scipy/integrate/_ivp/common.py:329: RuntimeWarning: invalid value encountered in subtract\n",
      "  diff = f_new - f[:, None]\n",
      "/tmp/ipykernel_32087/701646353.py:21: RuntimeWarning: overflow encountered in double_scalars\n",
      "  dQ_sto1 = (-k_gri * Q_sto1) + D\n",
      "/tmp/ipykernel_32087/701646353.py:22: RuntimeWarning: overflow encountered in double_scalars\n",
      "  dQ_sto2 = (k_gri * Q_sto1) - Q_sto2 * (k_min + ((k_max / 2) - (k_min / 2)) * (np.tanh(a * (Q_sto1 + Q_sto2 - (b * D))) - np.tanh(c * (Q_sto1 + Q_sto2 - (d * D))) + 2))\n",
      "/tmp/ipykernel_32087/701646353.py:22: RuntimeWarning: invalid value encountered in double_scalars\n",
      "  dQ_sto2 = (k_gri * Q_sto1) - Q_sto2 * (k_min + ((k_max / 2) - (k_min / 2)) * (np.tanh(a * (Q_sto1 + Q_sto2 - (b * D))) - np.tanh(c * (Q_sto1 + Q_sto2 - (d * D))) + 2))\n",
      "/tmp/ipykernel_32087/701646353.py:23: RuntimeWarning: overflow encountered in double_scalars\n",
      "  dQ_gut = Q_sto2 * (k_min + ((k_max / 2) - (k_min / 2)) * (np.tanh(a * (Q_sto1 + Q_sto2 - (b * D))) - np.tanh(c * (Q_sto1 + Q_sto2 - (d * D))) + 2)) - (k_abs * Q_gut)\n",
      "/home2/vishva.saravanan/miniconda3/envs/v/lib/python3.10/site-packages/scipy/integrate/_ivp/common.py:329: RuntimeWarning: invalid value encountered in subtract\n",
      "  diff = f_new - f[:, None]\n",
      "/tmp/ipykernel_32087/701646353.py:15: RuntimeWarning: overflow encountered in double_scalars\n",
      "  dG_p = k_p1 - F_cns - (k_1 * G_p) + (k_2 * G_t) - (k_p2 * G_p) - (k_p3 * I_d) + (k_e1 * (k_e2 - G_p)) + ((f * k_abs * Q_gut)/BW)\n",
      "/tmp/ipykernel_32087/701646353.py:23: RuntimeWarning: overflow encountered in double_scalars\n",
      "  dQ_gut = Q_sto2 * (k_min + ((k_max / 2) - (k_min / 2)) * (np.tanh(a * (Q_sto1 + Q_sto2 - (b * D))) - np.tanh(c * (Q_sto1 + Q_sto2 - (d * D))) + 2)) - (k_abs * Q_gut)\n",
      "/home2/vishva.saravanan/miniconda3/envs/v/lib/python3.10/site-packages/scipy/integrate/_ivp/common.py:329: RuntimeWarning: invalid value encountered in subtract\n",
      "  diff = f_new - f[:, None]\n",
      "/tmp/ipykernel_32087/701646353.py:15: RuntimeWarning: overflow encountered in double_scalars\n",
      "  dG_p = k_p1 - F_cns - (k_1 * G_p) + (k_2 * G_t) - (k_p2 * G_p) - (k_p3 * I_d) + (k_e1 * (k_e2 - G_p)) + ((f * k_abs * Q_gut)/BW)\n",
      "/tmp/ipykernel_32087/701646353.py:15: RuntimeWarning: overflow encountered in double_scalars\n",
      "  dG_p = k_p1 - F_cns - (k_1 * G_p) + (k_2 * G_t) - (k_p2 * G_p) - (k_p3 * I_d) + (k_e1 * (k_e2 - G_p)) + ((f * k_abs * Q_gut)/BW)\n",
      "/tmp/ipykernel_32087/701646353.py:16: RuntimeWarning: overflow encountered in double_scalars\n",
      "  dG_t = (k_1 * G_p) - (k_2 * G_t) - ((G_t * (V_m0 + (V_mx * X))) / (K_m0 + G_t + (K_mx * X)))\n",
      "/tmp/ipykernel_32087/701646353.py:16: RuntimeWarning: overflow encountered in double_scalars\n",
      "  dG_t = (k_1 * G_p) - (k_2 * G_t) - ((G_t * (V_m0 + (V_mx * X))) / (K_m0 + G_t + (K_mx * X)))\n",
      "/home2/vishva.saravanan/miniconda3/envs/v/lib/python3.10/site-packages/scipy/integrate/_ivp/common.py:329: RuntimeWarning: invalid value encountered in subtract\n",
      "  diff = f_new - f[:, None]\n",
      "/home2/vishva.saravanan/miniconda3/envs/v/lib/python3.10/site-packages/scipy/integrate/_ivp/common.py:329: RuntimeWarning: invalid value encountered in subtract\n",
      "  diff = f_new - f[:, None]\n",
      "/tmp/ipykernel_32087/701646353.py:15: RuntimeWarning: overflow encountered in double_scalars\n",
      "  dG_p = k_p1 - F_cns - (k_1 * G_p) + (k_2 * G_t) - (k_p2 * G_p) - (k_p3 * I_d) + (k_e1 * (k_e2 - G_p)) + ((f * k_abs * Q_gut)/BW)\n",
      "/tmp/ipykernel_32087/701646353.py:16: RuntimeWarning: overflow encountered in double_scalars\n",
      "  dG_t = (k_1 * G_p) - (k_2 * G_t) - ((G_t * (V_m0 + (V_mx * X))) / (K_m0 + G_t + (K_mx * X)))\n",
      "/home2/vishva.saravanan/miniconda3/envs/v/lib/python3.10/site-packages/scipy/integrate/_ivp/common.py:329: RuntimeWarning: invalid value encountered in subtract\n",
      "  diff = f_new - f[:, None]\n"
     ]
    },
    {
     "ename": "KeyboardInterrupt",
     "evalue": "",
     "output_type": "error",
     "traceback": [
      "\u001b[0;31m---------------------------------------------------------------------------\u001b[0m",
      "\u001b[0;31mKeyboardInterrupt\u001b[0m                         Traceback (most recent call last)",
      "Cell \u001b[0;32mIn[11], line 1\u001b[0m\n\u001b[0;32m----> 1\u001b[0m train(toolbox, NGEN, stats, hof)\n",
      "Cell \u001b[0;32mIn[10], line 46\u001b[0m, in \u001b[0;36mtrain\u001b[0;34m(toolbox, ngen, stats, halloffame)\u001b[0m\n\u001b[1;32m     43\u001b[0m population \u001b[39m=\u001b[39m toolbox\u001b[39m.\u001b[39mgenerate()\n\u001b[1;32m     45\u001b[0m \u001b[39m# evaluate the individuals\u001b[39;00m\n\u001b[0;32m---> 46\u001b[0m fitnesses \u001b[39m=\u001b[39m toolbox\u001b[39m.\u001b[39;49mmap(toolbox\u001b[39m.\u001b[39;49mevaluate, population)\n\u001b[1;32m     47\u001b[0m \u001b[39mfor\u001b[39;00m ind, fit \u001b[39min\u001b[39;00m \u001b[39mzip\u001b[39m(population, fitnesses):\n\u001b[1;32m     48\u001b[0m     ind\u001b[39m.\u001b[39mfitness\u001b[39m.\u001b[39mvalues \u001b[39m=\u001b[39m fit\n",
      "File \u001b[0;32m~/miniconda3/envs/v/lib/python3.10/multiprocessing/pool.py:367\u001b[0m, in \u001b[0;36mPool.map\u001b[0;34m(self, func, iterable, chunksize)\u001b[0m\n\u001b[1;32m    362\u001b[0m \u001b[39mdef\u001b[39;00m \u001b[39mmap\u001b[39m(\u001b[39mself\u001b[39m, func, iterable, chunksize\u001b[39m=\u001b[39m\u001b[39mNone\u001b[39;00m):\n\u001b[1;32m    363\u001b[0m \u001b[39m    \u001b[39m\u001b[39m'''\u001b[39;00m\n\u001b[1;32m    364\u001b[0m \u001b[39m    Apply `func` to each element in `iterable`, collecting the results\u001b[39;00m\n\u001b[1;32m    365\u001b[0m \u001b[39m    in a list that is returned.\u001b[39;00m\n\u001b[1;32m    366\u001b[0m \u001b[39m    '''\u001b[39;00m\n\u001b[0;32m--> 367\u001b[0m     \u001b[39mreturn\u001b[39;00m \u001b[39mself\u001b[39;49m\u001b[39m.\u001b[39;49m_map_async(func, iterable, mapstar, chunksize)\u001b[39m.\u001b[39;49mget()\n",
      "File \u001b[0;32m~/miniconda3/envs/v/lib/python3.10/multiprocessing/pool.py:768\u001b[0m, in \u001b[0;36mApplyResult.get\u001b[0;34m(self, timeout)\u001b[0m\n\u001b[1;32m    767\u001b[0m \u001b[39mdef\u001b[39;00m \u001b[39mget\u001b[39m(\u001b[39mself\u001b[39m, timeout\u001b[39m=\u001b[39m\u001b[39mNone\u001b[39;00m):\n\u001b[0;32m--> 768\u001b[0m     \u001b[39mself\u001b[39;49m\u001b[39m.\u001b[39;49mwait(timeout)\n\u001b[1;32m    769\u001b[0m     \u001b[39mif\u001b[39;00m \u001b[39mnot\u001b[39;00m \u001b[39mself\u001b[39m\u001b[39m.\u001b[39mready():\n\u001b[1;32m    770\u001b[0m         \u001b[39mraise\u001b[39;00m \u001b[39mTimeoutError\u001b[39;00m\n",
      "File \u001b[0;32m~/miniconda3/envs/v/lib/python3.10/multiprocessing/pool.py:765\u001b[0m, in \u001b[0;36mApplyResult.wait\u001b[0;34m(self, timeout)\u001b[0m\n\u001b[1;32m    764\u001b[0m \u001b[39mdef\u001b[39;00m \u001b[39mwait\u001b[39m(\u001b[39mself\u001b[39m, timeout\u001b[39m=\u001b[39m\u001b[39mNone\u001b[39;00m):\n\u001b[0;32m--> 765\u001b[0m     \u001b[39mself\u001b[39;49m\u001b[39m.\u001b[39;49m_event\u001b[39m.\u001b[39;49mwait(timeout)\n",
      "File \u001b[0;32m~/miniconda3/envs/v/lib/python3.10/threading.py:607\u001b[0m, in \u001b[0;36mEvent.wait\u001b[0;34m(self, timeout)\u001b[0m\n\u001b[1;32m    605\u001b[0m signaled \u001b[39m=\u001b[39m \u001b[39mself\u001b[39m\u001b[39m.\u001b[39m_flag\n\u001b[1;32m    606\u001b[0m \u001b[39mif\u001b[39;00m \u001b[39mnot\u001b[39;00m signaled:\n\u001b[0;32m--> 607\u001b[0m     signaled \u001b[39m=\u001b[39m \u001b[39mself\u001b[39;49m\u001b[39m.\u001b[39;49m_cond\u001b[39m.\u001b[39;49mwait(timeout)\n\u001b[1;32m    608\u001b[0m \u001b[39mreturn\u001b[39;00m signaled\n",
      "File \u001b[0;32m~/miniconda3/envs/v/lib/python3.10/threading.py:320\u001b[0m, in \u001b[0;36mCondition.wait\u001b[0;34m(self, timeout)\u001b[0m\n\u001b[1;32m    318\u001b[0m \u001b[39mtry\u001b[39;00m:    \u001b[39m# restore state no matter what (e.g., KeyboardInterrupt)\u001b[39;00m\n\u001b[1;32m    319\u001b[0m     \u001b[39mif\u001b[39;00m timeout \u001b[39mis\u001b[39;00m \u001b[39mNone\u001b[39;00m:\n\u001b[0;32m--> 320\u001b[0m         waiter\u001b[39m.\u001b[39;49macquire()\n\u001b[1;32m    321\u001b[0m         gotit \u001b[39m=\u001b[39m \u001b[39mTrue\u001b[39;00m\n\u001b[1;32m    322\u001b[0m     \u001b[39melse\u001b[39;00m:\n",
      "\u001b[0;31mKeyboardInterrupt\u001b[0m: "
     ]
    }
   ],
   "source": [
    "train(toolbox, NGEN, stats, hof)"
   ]
  },
  {
   "cell_type": "code",
   "execution_count": null,
   "metadata": {},
   "outputs": [],
   "source": [
    "sol = simulate(constrain_parameters(hof.items[0]), t, cgm, meal, insulin, p_fix)"
   ]
  },
  {
   "cell_type": "code",
   "execution_count": null,
   "metadata": {},
   "outputs": [
    {
     "data": {
      "image/png": "[encoded data removed]",
      "text/plain": [
       "<Figure size 640x480 with 1 Axes>"
      ]
     },
     "metadata": {},
     "output_type": "display_data"
    }
   ],
   "source": [
    "plt.plot(sol.t, sol.y[9, :])\n",
    "plt.plot(t, cgm, \"r\")\n",
    "plt.show()"
   ]
  },
  {
   "cell_type": "code",
   "execution_count": null,
   "metadata": {},
   "outputs": [],
   "source": []
  }
 ],
 "metadata": {
  "kernelspec": {
   "display_name": "v",
   "language": "python",
   "name": "python3"
  },
  "language_info": {
   "codemirror_mode": {
    "name": "ipython",
    "version": 3
   },
   "file_extension": ".py",
   "mimetype": "text/x-python",
   "name": "python",
   "nbconvert_exporter": "python",
   "pygments_lexer": "ipython3",
   "version": "3.10.8"
  },
  "orig_nbformat": 4
 },
 "nbformat": 4,
 "nbformat_minor": 2
}
