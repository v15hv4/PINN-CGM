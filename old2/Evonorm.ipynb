{
  "nbformat": 4,
  "nbformat_minor": 0,
  "metadata": {
    "colab": {
      "provenance": []
    },
    "kernelspec": {
      "name": "python3",
      "display_name": "Python 3"
    },
    "language_info": {
      "name": "python"
    }
  },
  "cells": [
    {
      "cell_type": "code",
      "execution_count": null,
      "metadata": {
        "id": "tn6UOyyKLHH7"
      },
      "outputs": [],
      "source": [
        "import random\n",
        "import numpy as np\n"
      ]
    },
    {
      "cell_type": "code",
      "source": [
        "\n",
        "def generate_population(M, a, b):\n",
        "    population = []\n",
        "    for i in range(M):\n",
        "        uniform_sample = random.uniform(a, b)\n",
        "        population.append(uniform_sample)\n",
        "    return population\n"
      ],
      "metadata": {
        "id": "-paoubl_LMlq"
      },
      "execution_count": null,
      "outputs": []
    },
    {
      "cell_type": "code",
      "source": [
        "population = generate_population(100, 0, 1)\n",
        "print(population)\n"
      ],
      "metadata": {
        "id": "HremTyI6LNOZ"
      },
      "execution_count": null,
      "outputs": []
    },
    {
      "cell_type": "code",
      "source": [
        "sse_values = []\n",
        "for individual in population:\n",
        "sse = np.sum((data - individual)**2)\n",
        "sse_values.append(sse)\n",
        "\n"
      ],
      "metadata": {
        "id": "rkNT6IXUwpzE"
      },
      "execution_count": null,
      "outputs": []
    },
    {
      "cell_type": "code",
      "source": [
        "best_individual_index = np.argmin(sse_values)\n",
        "best_individual = population[best_individual_index]\n",
        "\n",
        "print(\"Best individual:\", best_individual)\n",
        "print(\"SSE of the best individual:\", sse_values[best_individual_index])\n",
        "\n",
        "\n",
        "print(\"Best individuals:\", best_individuals)"
      ],
      "metadata": {
        "id": "CD5jLVcgM3Sv"
      },
      "execution_count": null,
      "outputs": []
    },
    {
      "cell_type": "code",
      "source": [
        "import numpy as np\n",
        "\n",
        "mean = np.mean(best_individuals)\n",
        "std = np.std(best_individuals)\n",
        "\n",
        "print(\"Mean of the best individuals:\", mean)\n",
        "print(\"Standard deviation of the best individuals:\", std)\n"
      ],
      "metadata": {
        "id": "RV94p5yIM62h"
      },
      "execution_count": null,
      "outputs": []
    }
  ]
}