{
 "cells": [
  {
   "cell_type": "code",
   "execution_count": 1,
   "metadata": {},
   "outputs": [],
   "source": [
    "import numpy as np\n",
    "import seaborn as sns\n",
    "import matplotlib.pyplot as plt\n",
    "\n",
    "from scipy.integrate import solve_ivp"
   ]
  },
  {
   "cell_type": "code",
   "execution_count": 2,
   "metadata": {},
   "outputs": [],
   "source": [
    "sns.set()"
   ]
  },
  {
   "cell_type": "code",
   "execution_count": 9,
   "metadata": {},
   "outputs": [],
   "source": [
    "def dalla_man(t, u, p, D):\n",
    "    x1, x2, x3, x4, x5, x6, x7, x8, x9, x10, x11, x12 = u\n",
    "    k1, k2, kp1, kp2, kp3, ke1, ke2, m1, m2, m4, m6, ka1, ka2, kd, ki, kgri, kmin, kmax, a, b, c, d, kabs, Vm0, Km0, Vmx, Kmx, p2U, Ib, VI, f, BW, Fcns = p\n",
    "\n",
    "    delta = 0.01 * np.random.randn()\n",
    "\n",
    "    dx1 = kp1 - Fcns - k1 * x1 + k2 * x2 - kp2 * x1 - kp3 * x6 + ke1 * (ke2 - x1) + (f * kabs * x9) / BW\n",
    "    dx2 = k1 * x1 - k2 * x2 - (x2 * (Vm0 + Vmx * x10)) / (Km0 + x2 + Kmx * x10)\n",
    "    dx3 = m2 * x4 - x3 * (m1 - (m1 * m6) / (m6 - 1))\n",
    "    dx4 = ka1 * x11 - x4 * (m2 + m4) + ka2 * x12 + m1 * x3\n",
    "    dx5 = -ki * (x5 - (x4 / VI))\n",
    "    dx6 = ki * (x5 - x6)\n",
    "    dx7 = -kgri * x7 + D * delta\n",
    "    dx8 = kgri * x7 - x8 * (kmin + ((kmax - kmin) / 2) * (np.tanh(a * (x7 + x8 - b * D)) - np.tanh(c * (x7 + x8 - d * D)) + 2))\n",
    "    dx9 = x8 * (kmin + ((kmax - kmin) / 2) * (np.tanh(a * (x7 + x8 - b * D)) - np.tanh(c * (x7 + x8 - d * D)) + 2)) - kabs * x9\n",
    "    dx10 = -p2U * (Ib - (x4 / VI)) - p2U * x10\n",
    "    dx11 = 0.8 - x11 * (ka1 + kd)\n",
    "    dx12 = kd * x11 - ka2 * x12\n",
    "\n",
    "    return [dx1, dx2, dx3, dx4, dx5, dx6, dx7, dx8, dx9, dx10, dx11, dx12]"
   ]
  },
  {
   "cell_type": "code",
   "execution_count": 10,
   "metadata": {},
   "outputs": [],
   "source": [
    "# nominal parameters\n",
    "k1 = 0.065\n",
    "k2 = 0.079\n",
    "kp1 = 2.70\n",
    "kp2 = 0.0021\n",
    "kp3 = 0.009\n",
    "ke1 = 0.0005\n",
    "ke2 = 339\n",
    "m1 = 0.190\n",
    "m2 = 0.484\n",
    "m4 = 0.194\n",
    "m6 = 0.6471\n",
    "ka1 = 0\n",
    "ka2 = 0\n",
    "kd = 0\n",
    "ki = 0.0079\n",
    "kgri = 0.0558\n",
    "kmin = 0.0080\n",
    "kmax = 0.0558\n",
    "a = 0.00013\n",
    "b = 0.82\n",
    "c = 0.00236\n",
    "d = 0.010\n",
    "kabs = 0.057\n",
    "Vm0 = 2.50\n",
    "Km0 = 225.59\n",
    "Vmx = 0.047\n",
    "Kmx = 2.30\n",
    "p2U = 0.0331\n",
    "Ib = 25.49\n",
    "VI = 0.05\n",
    "f = 0.9\n",
    "BW = 70\n",
    "Fcns = 1.0\n",
    "\n",
    "p = [k1, k2, kp1, kp2, kp3, ke1, ke2, m1, m2, m4, m6, ka1, ka2, kd, ki, kgri, kmin, kmax, a, b, c, d, kabs, Vm0, Km0, Vmx, Kmx, p2U, Ib, VI, f, BW, Fcns]"
   ]
  },
  {
   "cell_type": "code",
   "execution_count": 11,
   "metadata": {},
   "outputs": [],
   "source": [
    "# more parameters\n",
    "HEb = 0.6\n",
    "Vg = 1.88\n",
    "\n",
    "# basal conditions\n",
    "Gb = 130\n",
    "Sb = 0\n",
    "IIRb = 0\n",
    "m3 = HEb * m1 / (1 - HEb)\n",
    "Ipb = IIRb / (m2 + m4 - (m1 * m2) / (m1 + m3))\n",
    "Ilb = Ipb * (m2 / (m1 + m3))\n",
    "Ib = Ipb / VI\n",
    "Ipob = 0\n",
    "EGPb = 2.4\n",
    "Gpb = Gb * Vg\n",
    "Gtb = (Fcns - EGPb + k1 * Gpb) / k2\n",
    "Isc1ss = 0 # IIRb / (kd + ka1)\n",
    "Isc2ss = 0 # kd * Isc1ss / ka2"
   ]
  },
  {
   "cell_type": "code",
   "execution_count": 12,
   "metadata": {},
   "outputs": [],
   "source": [
    "# initial conditions\n",
    "Gp0 = Gpb\n",
    "Gt0 = Gtb\n",
    "Il0 = Ilb\n",
    "Ip0 = Ipb\n",
    "I10 = Ib\n",
    "Id0 = Ib\n",
    "Qsto10 = 0\n",
    "Qsto20 = 0\n",
    "Qgut0 = 0\n",
    "X0 = 0\n",
    "Isc10 = Isc1ss\n",
    "Isc20 = Isc2ss\n",
    "\n",
    "u0 = [Gp0, Gt0, Il0, Ip0, I10, Id0, Qsto10, Qsto20, Qgut0, X0, Isc10, Isc20]"
   ]
  },
  {
   "cell_type": "code",
   "execution_count": 22,
   "metadata": {},
   "outputs": [],
   "source": [
    "# timespan\n",
    "t_span = (0, 60 * 60 * 24)\n",
    "t_eval = np.arange(*t_span)"
   ]
  },
  {
   "cell_type": "code",
   "execution_count": 25,
   "metadata": {},
   "outputs": [
    {
     "ename": "KeyboardInterrupt",
     "evalue": "",
     "output_type": "error",
     "traceback": [
      "\u001b[0;31m---------------------------------------------------------------------------\u001b[0m",
      "\u001b[0;31mKeyboardInterrupt\u001b[0m                         Traceback (most recent call last)",
      "Cell \u001b[0;32mIn[25], line 2\u001b[0m\n\u001b[1;32m      1\u001b[0m D \u001b[39m=\u001b[39m \u001b[39m50\u001b[39m\n\u001b[0;32m----> 2\u001b[0m sol \u001b[39m=\u001b[39m solve_ivp(dalla_man, t_span, u0, t_eval\u001b[39m=\u001b[39;49mt_eval, args\u001b[39m=\u001b[39;49m(p, D))\n",
      "File \u001b[0;32m~/miniconda3/envs/v/lib/python3.10/site-packages/scipy/integrate/_ivp/ivp.py:634\u001b[0m, in \u001b[0;36msolve_ivp\u001b[0;34m(fun, t_span, y0, method, t_eval, dense_output, events, vectorized, args, **options)\u001b[0m\n\u001b[1;32m    631\u001b[0m \u001b[39melse\u001b[39;00m:\n\u001b[1;32m    632\u001b[0m     \u001b[39m# The value in t_eval equal to t will be included.\u001b[39;00m\n\u001b[1;32m    633\u001b[0m     \u001b[39mif\u001b[39;00m solver\u001b[39m.\u001b[39mdirection \u001b[39m>\u001b[39m \u001b[39m0\u001b[39m:\n\u001b[0;32m--> 634\u001b[0m         t_eval_i_new \u001b[39m=\u001b[39m np\u001b[39m.\u001b[39;49msearchsorted(t_eval, t, side\u001b[39m=\u001b[39;49m\u001b[39m'\u001b[39;49m\u001b[39mright\u001b[39;49m\u001b[39m'\u001b[39;49m)\n\u001b[1;32m    635\u001b[0m         t_eval_step \u001b[39m=\u001b[39m t_eval[t_eval_i:t_eval_i_new]\n\u001b[1;32m    636\u001b[0m     \u001b[39melse\u001b[39;00m:\n",
      "File \u001b[0;32m<__array_function__ internals>:180\u001b[0m, in \u001b[0;36msearchsorted\u001b[0;34m(*args, **kwargs)\u001b[0m\n",
      "File \u001b[0;32m~/miniconda3/envs/v/lib/python3.10/site-packages/numpy/core/fromnumeric.py:1387\u001b[0m, in \u001b[0;36msearchsorted\u001b[0;34m(a, v, side, sorter)\u001b[0m\n\u001b[1;32m   1319\u001b[0m \u001b[39m@array_function_dispatch\u001b[39m(_searchsorted_dispatcher)\n\u001b[1;32m   1320\u001b[0m \u001b[39mdef\u001b[39;00m \u001b[39msearchsorted\u001b[39m(a, v, side\u001b[39m=\u001b[39m\u001b[39m'\u001b[39m\u001b[39mleft\u001b[39m\u001b[39m'\u001b[39m, sorter\u001b[39m=\u001b[39m\u001b[39mNone\u001b[39;00m):\n\u001b[1;32m   1321\u001b[0m \u001b[39m    \u001b[39m\u001b[39m\"\"\"\u001b[39;00m\n\u001b[1;32m   1322\u001b[0m \u001b[39m    Find indices where elements should be inserted to maintain order.\u001b[39;00m\n\u001b[1;32m   1323\u001b[0m \n\u001b[0;32m   (...)\u001b[0m\n\u001b[1;32m   1385\u001b[0m \n\u001b[1;32m   1386\u001b[0m \u001b[39m    \"\"\"\u001b[39;00m\n\u001b[0;32m-> 1387\u001b[0m     \u001b[39mreturn\u001b[39;00m _wrapfunc(a, \u001b[39m'\u001b[39;49m\u001b[39msearchsorted\u001b[39;49m\u001b[39m'\u001b[39;49m, v, side\u001b[39m=\u001b[39;49mside, sorter\u001b[39m=\u001b[39;49msorter)\n",
      "\u001b[0;31mKeyboardInterrupt\u001b[0m: "
     ]
    }
   ],
   "source": [
    "D = 50\n",
    "sol = solve_ivp(dalla_man, t_span, u0, t_eval=t_eval, args=(p, D))"
   ]
  },
  {
   "cell_type": "code",
   "execution_count": null,
   "metadata": {},
   "outputs": [
    {
     "data": {
      "image/png": "[encoded data removed]",
      "text/plain": [
       "<Figure size 640x480 with 1 Axes>"
      ]
     },
     "metadata": {},
     "output_type": "display_data"
    }
   ],
   "source": [
    "plt.plot(sol.t, sol.y[0, :])\n",
    "plt.show()"
   ]
  },
  {
   "cell_type": "code",
   "execution_count": null,
   "metadata": {},
   "outputs": [],
   "source": []
  },
  {
   "cell_type": "code",
   "execution_count": null,
   "metadata": {},
   "outputs": [],
   "source": []
  }
 ],
 "metadata": {
  "kernelspec": {
   "display_name": "v",
   "language": "python",
   "name": "python3"
  },
  "language_info": {
   "codemirror_mode": {
    "name": "ipython",
    "version": 3
   },
   "file_extension": ".py",
   "mimetype": "text/x-python",
   "name": "python",
   "nbconvert_exporter": "python",
   "pygments_lexer": "ipython3",
   "version": "3.10.8"
  },
  "orig_nbformat": 4
 },
 "nbformat": 4,
 "nbformat_minor": 2
}
