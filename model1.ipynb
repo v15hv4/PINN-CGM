{
 "cells": [
  {
   "cell_type": "code",
   "execution_count": 1,
   "metadata": {},
   "outputs": [],
   "source": [
    "import numpy as np\n",
    "import seaborn as sns\n",
    "import matplotlib.pyplot as plt\n",
    "\n",
    "from scipy.integrate import solve_ivp"
   ]
  },
  {
   "cell_type": "code",
   "execution_count": 2,
   "metadata": {},
   "outputs": [],
   "source": [
    "# better graphs\n",
    "sns.set()"
   ]
  },
  {
   "cell_type": "code",
   "execution_count": 3,
   "metadata": {},
   "outputs": [],
   "source": [
    "def ode(t, u, p_est, p_fix, t_range, D_t, U_t):\n",
    "    # states\n",
    "    G_p, G_t, I_l, I_p, I_1, I_d, Q_sto1, Q_sto2, Q_gut, X, I_sc1, I_sc2 = u\n",
    "\n",
    "    # parameters\n",
    "    k_p2, k_1, k_2, k_p1, k_i, k_e1, k_max, k_min, k_abs, k_p3, k_gri = p_est\n",
    "    F_cns, k_e2, f, BW, V_m0, V_mx, K_m0, K_mx, m_2, m_1, m_6, k_a1, m_4, k_a2, V_I, a, b, c, d, p_2U, I_b, k_d = p_fix\n",
    "\n",
    "    # noise\n",
    "    δ = np.random.normal(0, 1)\n",
    "\n",
    "    # meal intake\n",
    "    D = D_t[np.abs(t_range - t).argmin()]\n",
    "\n",
    "    # insulin infusion rate\n",
    "    U = U_t[np.abs(t_range - t).argmin()]\n",
    "\n",
    "    dG_p = k_p1 - F_cns - (k_1 * G_p) + (k_2 * G_t) - (k_p2 * G_p) - (k_p3 * I_d) + (k_e1 * (k_e2 - G_p)) + ((f * k_abs * Q_gut)/BW)\n",
    "    dG_t = (k_1 * G_p) - (k_2 * G_t) - ((G_t * (V_m0 + (V_mx * X))) / (K_m0 + G_t + (K_mx * X)))\n",
    "    dI_l = (m_2 * I_p) - I_l * (m_1 - ((m_1 * m_6) / (m_6 - 1)))\n",
    "    dI_p = (k_a1 * I_sc1) - (I_p * (m_2 + m_4)) + (k_a2 * I_sc2) + (m_1 * I_l)\n",
    "    dI_1 = -k_i * (I_1 - (I_p / V_I))\n",
    "    dI_d = k_i * (I_1 - I_d)\n",
    "    dQ_sto1 = (-k_gri * Q_sto1) + D * δ\n",
    "    dQ_sto2 = (k_gri * Q_sto1) - Q_sto2 * (k_min + ((k_max / 2) - (k_min / 2)) * (np.tanh(a * (Q_sto1 + Q_sto2 - (b * D))) - np.tanh(c * (Q_sto1 + Q_sto2 - (d * D))) + 2))\n",
    "    dQ_gut = Q_sto2 * (k_min + ((k_max / 2) - (k_min / 2)) * (np.tanh(a * (Q_sto1 + Q_sto2 - (b * D))) - np.tanh(c * (Q_sto1 + Q_sto2 - (d * D))) + 2)) - (k_abs * Q_gut)\n",
    "    dX = -p_2U * (I_b - (I_p / V_I)) - (p_2U * X)\n",
    "    dI_sc1 = U - (I_sc1 * (k_a1 + k_d))\n",
    "    dI_sc2 = (k_d * I_sc1) - (k_a2 * I_sc2)\n",
    "\n",
    "    return [dG_p, dG_t, dI_l, dI_p, dI_1, dI_d, dQ_sto1, dQ_sto2, dQ_gut, dX, dI_sc1, dI_sc2]"
   ]
  },
  {
   "cell_type": "code",
   "execution_count": 77,
   "metadata": {},
   "outputs": [],
   "source": [
    "# inputs\n",
    "t_span = (0, 1000)\n",
    "t_range = np.linspace(*t_span, 100)\n",
    "D_t = np.zeros_like(t_range)\n",
    "U_t = 0.1 * np.ones_like(t_range)\n",
    "\n",
    "D_t[np.abs(t_range - 20).argmin()] = 50\n",
    "D_t[np.abs(t_range - 50).argmin()] = 80\n",
    "D_t[np.abs(t_range - 60).argmin()] = 40\n",
    "\n",
    "U_t[np.abs(t_range - 20).argmin()] = 4\n",
    "U_t[np.abs(t_range - 50).argmin()] = 8\n",
    "U_t[np.abs(t_range - 60).argmin()] = 3"
   ]
  },
  {
   "cell_type": "code",
   "execution_count": 78,
   "metadata": {},
   "outputs": [],
   "source": [
    "# fixed parameters\n",
    "F_cns = 1\n",
    "k_e2 = 339\n",
    "f = 0.90\n",
    "BW = 60\n",
    "V_m0 = 2.50\n",
    "V_mx = 0.047\n",
    "K_m0 = 225.59\n",
    "K_mx = 0.0 # ?\n",
    "m_2 = 0.484\n",
    "m_1 = 0.190\n",
    "m_6 = 0.6471\n",
    "k_a1 = 0.0018\n",
    "m_4 = 0.194\n",
    "k_a2 = 0.0182\n",
    "V_I = 0.05\n",
    "a = 0.000013\n",
    "b = 0.82\n",
    "c = 0.00236\n",
    "d = 0.01\n",
    "p_2U = 0.0331\n",
    "I_b = 25.49\n",
    "k_d = 0.0164\n",
    "p_fix = [F_cns, k_e2, f, BW, V_m0, V_mx, K_m0, K_mx, m_2, m_1, m_6, k_a1, m_4, k_a2, V_I, a, b, c, d, p_2U, I_b, k_d]"
   ]
  },
  {
   "cell_type": "code",
   "execution_count": 79,
   "metadata": {},
   "outputs": [],
   "source": [
    "# parameters to estimate\n",
    "k_p2 = 0.0021\n",
    "k_1 = 0.065\n",
    "k_2 = 0.079\n",
    "k_p1 = 2.70\n",
    "k_i = 0.0079\n",
    "k_e1 = 0.0005\n",
    "k_max = 0.0558\n",
    "k_min = 0.0080\n",
    "k_abs = 0.057\n",
    "k_p3 = 0.009\n",
    "k_gri = 0.0558\n",
    "p_est = [k_p2, k_1, k_2, k_p1, k_i, k_e1, k_max, k_min, k_abs, k_p3, k_gri]\n",
    "\n",
    "# initial conditions\n",
    "G_p_0 = 100.0\n",
    "G_t_0 = 20.0\n",
    "I_l_0 = 1.0\n",
    "I_p_0 = 1.0\n",
    "I_1_0 = 25.49 # ?\n",
    "I_d_0 = 25.49 # ?\n",
    "Q_sto1_0 = 100.0\n",
    "Q_sto2_0 = 100.0\n",
    "Q_gut_0 = 100.0\n",
    "X_0 = 150 # ?\n",
    "I_sc1_0 = 500.0\n",
    "I_sc2_0 = 200.0\n",
    "\n",
    "u0 = [G_p_0, G_t_0, I_l_0, I_p_0, I_1_0, I_d_0, Q_sto1_0, Q_sto2_0, Q_gut_0, X_0, I_sc1_0, I_sc2_0]"
   ]
  },
  {
   "cell_type": "code",
   "execution_count": 80,
   "metadata": {},
   "outputs": [],
   "source": [
    "# solve ODE\n",
    "sol = solve_ivp(lambda t, y: ode(t, y, p_est, p_fix, t_range, D_t, U_t), t_span, u0, t_eval=t_range, method=\"BDF\")"
   ]
  },
  {
   "cell_type": "code",
   "execution_count": 81,
   "metadata": {},
   "outputs": [
    {
     "data": {
      "image/png": "[encoded data removed]",
      "text/plain": [
       "<Figure size 640x480 with 1 Axes>"
      ]
     },
     "metadata": {},
     "output_type": "display_data"
    }
   ],
   "source": [
    "# plot results\n",
    "plt.plot(sol.t, sol.y[9, :])\n",
    "plt.plot(t_range, D_t)\n",
    "plt.plot(t_range, U_t)\n",
    "plt.show()"
   ]
  },
  {
   "cell_type": "code",
   "execution_count": null,
   "metadata": {},
   "outputs": [],
   "source": []
  },
  {
   "cell_type": "code",
   "execution_count": null,
   "metadata": {},
   "outputs": [],
   "source": []
  }
 ],
 "metadata": {
  "kernelspec": {
   "display_name": "v",
   "language": "python",
   "name": "python3"
  },
  "language_info": {
   "codemirror_mode": {
    "name": "ipython",
    "version": 3
   },
   "file_extension": ".py",
   "mimetype": "text/x-python",
   "name": "python",
   "nbconvert_exporter": "python",
   "pygments_lexer": "ipython3",
   "version": "3.10.8"
  },
  "orig_nbformat": 4
 },
 "nbformat": 4,
 "nbformat_minor": 2
}
