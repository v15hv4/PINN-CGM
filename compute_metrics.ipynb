{
 "cells": [
  {
   "cell_type": "code",
   "execution_count": 1,
   "metadata": {},
   "outputs": [],
   "source": [
    "import numpy as np\n",
    "import pandas as pd\n",
    "\n",
    "from utils import dt2int\n",
    "from torchdiffeq import odeint\n",
    "from collections import namedtuple\n",
    "from scipy.integrate import solve_ivp\n",
    "\n",
    "from data import C3RData, interpolate\n",
    "from sklearn.metrics import mean_squared_error, mean_squared_log_error"
   ]
  },
  {
   "cell_type": "code",
   "execution_count": 2,
   "metadata": {},
   "outputs": [],
   "source": [
    "# required data structures\n",
    "Action = namedtuple(\"patient_action\", ['CHO', 'insulin'])"
   ]
  },
  {
   "cell_type": "code",
   "execution_count": 3,
   "metadata": {},
   "outputs": [],
   "source": [
    "# load dataset\n",
    "c3r = C3RData(data_dir=\"data/\")"
   ]
  },
  {
   "cell_type": "code",
   "execution_count": 4,
   "metadata": {},
   "outputs": [],
   "source": [
    "# computed parameter sets\n",
    "pEVO = [\n",
    "    1.2433461765211888,\n",
    "    0.23746704633494647,\n",
    "    0.07426,\n",
    "    0.013128200000000001,\n",
    "    0.007361601609188121,\n",
    "    0.08095999996738135,\n",
    "    0.040101988636679,\n",
    "    0.01692058325659032,\n",
    "    0.002499999999999984,\n",
    "    7.469604659648978,\n",
    "]\n",
    "\n",
    "pPSO = [\n",
    "    1.74453,\n",
    "    0.17448400259928334,\n",
    "    0.0009459666709618961,\n",
    "    0.68523,\n",
    "    0.012269333333333333,\n",
    "    0.04857599999999944,\n",
    "    0.0240612,\n",
    "    0.07163696962095331,\n",
    "    0.00016666666666666815,\n",
    "    6.970227880931038\n",
    "]\n",
    "\n",
    "pPINN = [\n",
    "    0.021419000001136793,\n",
    "    0.05816134190741184,\n",
    "    0.0028379,\n",
    "    0.065641,\n",
    "    0.036808,\n",
    "    0.0029398,\n",
    "    0.008020399994634077,\n",
    "    0.006121641359098722,\n",
    "    0.0005,\n",
    "    3.56213180523,\n",
    "]"
   ]
  },
  {
   "cell_type": "code",
   "execution_count": 5,
   "metadata": {},
   "outputs": [],
   "source": [
    "# load test data\n",
    "test_from_dt = f\"2014-05-09 00:00:00\"\n",
    "test_to_dt = f\"2014-05-11 00:00:00\"\n",
    "\n",
    "# destructure data\n",
    "test_cgm_data, test_meal_data, test_insulin_data = c3r.get_case(2, test_from_dt, test_to_dt)\n",
    "test_data_t, test_data_CGM, test_data_CHO, test_data_insulin = interpolate(test_cgm_data, test_meal_data, test_insulin_data)\n",
    "\n",
    "# normalize time\n",
    "test_data_t -= test_data_t[0]\n",
    "\n",
    "# scale down to minutes\n",
    "test_data_t = test_data_t / 60.0\n",
    "\n",
    "# negate delay\n",
    "test_data_CHO = np.roll(test_data_CHO, -200)\n",
    "test_data_insulin = np.roll(test_data_insulin, -200)\n",
    "\n",
    "# clean\n",
    "test_data_CHO = np.nan_to_num(test_data_CHO, nan=test_data_CHO[0])\n",
    "test_data_insulin = np.nan_to_num(test_data_insulin, nan=test_data_insulin[0])"
   ]
  },
  {
   "cell_type": "code",
   "execution_count": 6,
   "metadata": {},
   "outputs": [],
   "source": [
    "# load test2 data\n",
    "test2_from_dt = f\"2014-05-12 00:00:00\"\n",
    "test2_to_dt = f\"2014-05-14 00:00:00\"\n",
    "\n",
    "# destructure data\n",
    "test2_cgm_data, test2_meal_data, test2_insulin_data = c3r.get_case(2, test2_from_dt, test2_to_dt)\n",
    "test2_data_t, test2_data_CGM, test2_data_CHO, test2_data_insulin = interpolate(test2_cgm_data, test2_meal_data, test2_insulin_data)\n",
    "\n",
    "# normalize time\n",
    "test2_data_t -= test2_data_t[0]\n",
    "\n",
    "# scale down to minutes\n",
    "test2_data_t = test2_data_t / 60.0\n",
    "\n",
    "# negate delay\n",
    "test2_data_CHO = np.roll(test2_data_CHO, -200)\n",
    "test2_data_insulin = np.roll(test2_data_insulin, -200)\n",
    "\n",
    "# clean\n",
    "test2_data_CHO = np.nan_to_num(test2_data_CHO, nan=test2_data_CHO[0])\n",
    "test2_data_insulin = np.nan_to_num(test2_data_insulin, nan=test2_data_insulin[0])"
   ]
  },
  {
   "cell_type": "code",
   "execution_count": 7,
   "metadata": {},
   "outputs": [],
   "source": [
    "# load parameters\n",
    "orig_params = pd.read_csv(\"parameters/vpatient_params.csv\")\n",
    "mean_params = orig_params.loc[orig_params[\"Name\"] == \"adult#001\"].squeeze()\n",
    "mean_params = mean_params.rename(lambda x: x.replace(\" \", \"\"))\n",
    "adult_params = orig_params[orig_params.Name.str.contains(\"adult\")]"
   ]
  },
  {
   "cell_type": "code",
   "execution_count": 8,
   "metadata": {},
   "outputs": [],
   "source": [
    "def ode(t, x, p, data_t, data_CHO, data_insulin):\n",
    "    in_time = data_t\n",
    "    in_CHO = data_CHO / 2\n",
    "    in_insulin = np.where(data_insulin > data_insulin[0], data_insulin / 2, data_insulin)\n",
    "\n",
    "    # instantiate derivatives\n",
    "    dxdt = np.zeros(13)\n",
    "\n",
    "    # destructure params\n",
    "    kabs, kmax, kmin, k2, k1, ki, kp2, kp3, ke1, kp1 = p\n",
    "\n",
    "    # fixed parameters\n",
    "    params = mean_params\n",
    "\n",
    "    # get current action\n",
    "    t_mask = np.abs(in_time - t).argmin()\n",
    "    action = Action(CHO=in_CHO[t_mask], insulin=in_insulin[t_mask])\n",
    "\n",
    "    d = action.CHO * 1000 # g -> mg\n",
    "    insulin = action.insulin * 6000 / params.BW\n",
    "\n",
    "    # glucose in the stomach\n",
    "    qsto = x[0] + x[1]\n",
    "\n",
    "    last_foodtaken = 0\n",
    "    if t_mask > 0:\n",
    "        last_foodtaken = in_CHO[t_mask - 1]\n",
    "    \n",
    "    Dbar = last_foodtaken * 1000 # unit: mg\n",
    "\n",
    "    # stomach solid\n",
    "    dxdt[0] = -kmax * x[0] + d\n",
    "\n",
    "    if Dbar > 0:\n",
    "        aa = 5 / 2 / (1 - params.b) / Dbar\n",
    "        cc = 5 / 2 / params.d / Dbar\n",
    "        kgut = kmin + (kmax - kmin) / 2 * (\n",
    "            np.tanh(aa * (qsto - params.b * Dbar))\n",
    "            - np.tanh(cc * (qsto - params.d * Dbar))\n",
    "            + 2\n",
    "        )\n",
    "    else:\n",
    "        kgut = kmax\n",
    "\n",
    "    # stomach liquid\n",
    "    dxdt[1] = kmax * x[0] - x[1] * kgut\n",
    "\n",
    "    # intestine\n",
    "    dxdt[2] = kgut * x[1] - kabs * x[2]\n",
    "\n",
    "    # Rate of appearance\n",
    "    Rat = params.f * kabs * x[2] / params.BW\n",
    "    # Glucose Production\n",
    "    EGPt = kp1 - kp2 * x[3] - kp3 * x[8]\n",
    "    # Glucose Utilization\n",
    "    Uiit = params.Fsnc\n",
    "\n",
    "    # renal excretion\n",
    "    if x[3] > params.ke2:\n",
    "        Et = ke1 * (x[3] - params.ke2)\n",
    "    else:\n",
    "        Et = 0\n",
    "\n",
    "    # glucose kinetics\n",
    "    # plus dextrose IV injection input u[2] if needed\n",
    "    dxdt[3] = max(EGPt, 0) + Rat - Uiit - Et - k1 * x[3] + k2 * x[4]\n",
    "    dxdt[3] = (x[3] >= 0) * dxdt[3]\n",
    "\n",
    "    Vmt = params.Vm0 + params.Vmx * x[6]\n",
    "    Kmt = params.Km0\n",
    "    Uidt = Vmt * x[4] / (Kmt + x[4])\n",
    "    dxdt[4] = -Uidt + k1 * x[3] - k2 * x[4]\n",
    "    dxdt[4] = (x[4] >= 0) * dxdt[4]\n",
    "\n",
    "    # insulin kinetics\n",
    "    dxdt[5] = (\n",
    "        -(params.m2 + params.m4) * x[5]\n",
    "        + params.m1 * x[9]\n",
    "        + params.ka1 * x[10]\n",
    "        + params.ka2 * x[11]\n",
    "    )  # plus insulin IV injection u[3] if needed\n",
    "    It = x[5] / params.Vi\n",
    "    dxdt[5] = (x[5] >= 0) * dxdt[5]\n",
    "\n",
    "    # insulin action on glucose utilization\n",
    "    dxdt[6] = -params.p2u * x[6] + params.p2u * (It - params.Ib)\n",
    "\n",
    "    # insulin action on production\n",
    "    dxdt[7] = -ki * (x[7] - It)\n",
    "\n",
    "    dxdt[8] = -ki * (x[8] - x[7])\n",
    "\n",
    "    # insulin in the liver (pmol/kg)\n",
    "    dxdt[9] = -(params.m1 + params.m30) * x[9] + params.m2 * x[5]\n",
    "    dxdt[9] = (x[9] >= 0) * dxdt[9]\n",
    "\n",
    "    # subcutaneous insulin kinetics\n",
    "    dxdt[10] = insulin - (params.ka1 + params.kd) * x[10]\n",
    "    dxdt[10] = (x[10] >= 0) * dxdt[10]\n",
    "\n",
    "    dxdt[11] = params.kd * x[10] - params.ka2 * x[11]\n",
    "    dxdt[11] = (x[11] >= 0) * dxdt[11]\n",
    "\n",
    "    # subcutaneous glucose\n",
    "    dxdt[12] = -params.ksc * x[12] + params.ksc * x[3]\n",
    "    dxdt[12] = (x[12] >= 0) * dxdt[12]\n",
    "\n",
    "    return dxdt"
   ]
  },
  {
   "attachments": {},
   "cell_type": "markdown",
   "metadata": {},
   "source": [
    "# Test Data 1"
   ]
  },
  {
   "cell_type": "code",
   "execution_count": 9,
   "metadata": {},
   "outputs": [],
   "source": [
    "# initial conditions\n",
    "x_0 = mean_params.iloc[2:15].to_numpy()\n",
    "\n",
    "# timespan\n",
    "tspan = (test_data_t[0], test_data_t[-1])\n",
    "t_eval = test_data_t"
   ]
  },
  {
   "cell_type": "code",
   "execution_count": 10,
   "metadata": {},
   "outputs": [],
   "source": [
    "solEVO = solve_ivp(ode, tspan, x_0, t_eval=t_eval, args=(pEVO, test_data_t, test_data_CHO, test_data_insulin))\n",
    "solPSO = solve_ivp(ode, tspan, x_0, t_eval=t_eval, args=(pPSO, test_data_t, test_data_CHO, test_data_insulin))\n",
    "solPINN = solve_ivp(ode, tspan, x_0, t_eval=t_eval, args=(pPINN, test_data_t, test_data_CHO, test_data_insulin))\n",
    "\n",
    "predEVO = solEVO.y[12] / mean_params[\"Vg\"]\n",
    "predPSO = solPSO.y[12] / mean_params[\"Vg\"]\n",
    "predPINN = solPINN.y[12] / mean_params[\"Vg\"]"
   ]
  },
  {
   "cell_type": "code",
   "execution_count": 11,
   "metadata": {},
   "outputs": [],
   "source": [
    "lEVO = mean_squared_log_error(predEVO, test_data_CGM)\n",
    "lPSO = mean_squared_log_error(predPSO, test_data_CGM)\n",
    "lPINN = mean_squared_log_error(predPINN, test_data_CGM)"
   ]
  },
  {
   "cell_type": "code",
   "execution_count": 12,
   "metadata": {},
   "outputs": [
    {
     "data": {
      "text/plain": [
       "(0.3266100884733184, 0.3137920963176523, 0.1549490301866874)"
      ]
     },
     "execution_count": 12,
     "metadata": {},
     "output_type": "execute_result"
    }
   ],
   "source": [
    "lEVO, lPSO, lPINN"
   ]
  },
  {
   "attachments": {},
   "cell_type": "markdown",
   "metadata": {},
   "source": [
    "# Test Data 2"
   ]
  },
  {
   "cell_type": "code",
   "execution_count": 13,
   "metadata": {},
   "outputs": [],
   "source": [
    "# initial conditions\n",
    "x_0 = mean_params.iloc[2:15].to_numpy()\n",
    "\n",
    "# timespan\n",
    "tspan = (test2_data_t[0], test2_data_t[-1])\n",
    "t_eval = test2_data_t"
   ]
  },
  {
   "cell_type": "code",
   "execution_count": 14,
   "metadata": {},
   "outputs": [],
   "source": [
    "solEVO = solve_ivp(ode, tspan, x_0, t_eval=t_eval, args=(pEVO, test2_data_t, test2_data_CHO, test2_data_insulin))\n",
    "solPSO = solve_ivp(ode, tspan, x_0, t_eval=t_eval, args=(pPSO, test2_data_t, test2_data_CHO, test2_data_insulin))\n",
    "solPINN = solve_ivp(ode, tspan, x_0, t_eval=t_eval, args=(pPINN, test2_data_t, test2_data_CHO, test2_data_insulin))\n",
    "\n",
    "predEVO = solEVO.y[12] / mean_params[\"Vg\"]\n",
    "predPSO = solPSO.y[12] / mean_params[\"Vg\"]\n",
    "predPINN = solPINN.y[12] / mean_params[\"Vg\"]"
   ]
  },
  {
   "cell_type": "code",
   "execution_count": 15,
   "metadata": {},
   "outputs": [],
   "source": [
    "lEVO = mean_squared_log_error(predEVO, test_data_CGM)\n",
    "lPSO = mean_squared_log_error(predPSO, test_data_CGM)\n",
    "lPINN = mean_squared_log_error(predPINN, test_data_CGM)"
   ]
  },
  {
   "cell_type": "code",
   "execution_count": 16,
   "metadata": {},
   "outputs": [
    {
     "data": {
      "text/plain": [
       "(0.3059113266001409, 0.3257581871738195, 0.13940529577028068)"
      ]
     },
     "execution_count": 16,
     "metadata": {},
     "output_type": "execute_result"
    }
   ],
   "source": [
    "lEVO, lPSO, lPINN"
   ]
  },
  {
   "cell_type": "code",
   "execution_count": null,
   "metadata": {},
   "outputs": [],
   "source": []
  }
 ],
 "metadata": {
  "kernelspec": {
   "display_name": "v",
   "language": "python",
   "name": "python3"
  },
  "language_info": {
   "codemirror_mode": {
    "name": "ipython",
    "version": 3
   },
   "file_extension": ".py",
   "mimetype": "text/x-python",
   "name": "python",
   "nbconvert_exporter": "python",
   "pygments_lexer": "ipython3",
   "version": "3.10.8"
  },
  "orig_nbformat": 4
 },
 "nbformat": 4,
 "nbformat_minor": 2
}
