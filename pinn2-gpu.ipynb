{
 "cells": [
  {
   "cell_type": "code",
   "execution_count": 1,
   "metadata": {},
   "outputs": [],
   "source": [
    "import torch\n",
    "import torch.nn as nn\n",
    "import torch.optim as optim\n",
    "import torch.nn.functional as F\n",
    "import torch.autograd as autograd\n",
    "from torch.utils.data import TensorDataset, DataLoader\n",
    "\n",
    "import numpy as np\n",
    "import pandas as pd\n",
    "import seaborn as sns\n",
    "import matplotlib.pyplot as plt\n",
    "\n",
    "from utils import dt2int\n",
    "from torchdiffeq import odeint\n",
    "from collections import namedtuple\n",
    "from tqdm.notebook import tqdm, trange"
   ]
  },
  {
   "cell_type": "code",
   "execution_count": 2,
   "metadata": {},
   "outputs": [],
   "source": [
    "# better plots\n",
    "sns.set_style('whitegrid')\n",
    "\n",
    "# better progress\n",
    "tqdm.pandas()\n",
    "\n",
    "# use GPU\n",
    "device = torch.device(\"cpu\")\n",
    "# if torch.cuda.is_available():\n",
    "#     device = torch.device(\"cuda\")\n",
    "#     print(\"CUDA available. Setting all tensors on GPU by default.\")\n",
    "#     torch.set_default_tensor_type(torch.cuda.FloatTensor)\n",
    "\n",
    "# batch size\n",
    "batch_size = 128"
   ]
  },
  {
   "cell_type": "code",
   "execution_count": 3,
   "metadata": {},
   "outputs": [],
   "source": [
    "# read data\n",
    "data = pd.read_csv(\"results/adult#001.csv\")\n",
    "\n",
    "# destructure data\n",
    "data_t = data[\"Time\"].map(lambda d: dt2int(d, fmt=\"%Y-%m-%d %H:%M:%S.%f\")).to_numpy()\n",
    "data_BG = data[\"BG\"].to_numpy()\n",
    "data_CGM = data[\"CGM\"].to_numpy()\n",
    "data_CHO = data[\"CHO\"].to_numpy()\n",
    "data_insulin = data[\"insulin\"].to_numpy()\n",
    "\n",
    "# normalize time\n",
    "data_t -= data_t[0]\n",
    "\n",
    "# scale down to minutes\n",
    "data_t = data_t / 60.0\n",
    "\n",
    "# clean\n",
    "data_CHO = np.nan_to_num(data_CHO, nan=data_CHO[0])\n",
    "data_insulin = np.nan_to_num(data_insulin, nan=data_insulin[0])"
   ]
  },
  {
   "cell_type": "code",
   "execution_count": 4,
   "metadata": {},
   "outputs": [],
   "source": [
    "tensor_t = torch.tensor(data_t, dtype=torch.float32, device=device).reshape(-1, 1)\n",
    "tensor_CGM = torch.tensor(data_CGM, dtype=torch.float32, device=device).reshape(-1, 1)"
   ]
  },
  {
   "cell_type": "code",
   "execution_count": 5,
   "metadata": {},
   "outputs": [],
   "source": [
    "# in_time = torch.from_numpy(data_t).float().to(device)\n",
    "# in_CHO = torch.from_numpy(data_CHO).float().to(device)\n",
    "# in_insulin = torch.from_numpy(data_insulin).float().to(device)\n",
    "# in_CGM = torch.from_numpy(data_CGM).float().to(device)\n",
    "\n",
    "dataset = TensorDataset(tensor_t, tensor_CGM)\n",
    "loader = DataLoader(dataset, batch_size=batch_size, shuffle=True, generator=torch.Generator(device=device))"
   ]
  },
  {
   "cell_type": "code",
   "execution_count": 6,
   "metadata": {},
   "outputs": [],
   "source": [
    "# load parameters\n",
    "orig_params = pd.read_csv(\"parameters/vpatient_params.csv\")\n",
    "mean_params = orig_params.loc[orig_params[\"Name\"] == \"adult#001\"].squeeze()\n",
    "mean_params = mean_params.rename(lambda x: x.replace(\" \", \"\"))\n",
    "adult_params = orig_params[orig_params.Name.str.contains(\"adult\")]\n",
    "\n",
    "min_params = adult_params.min()\n",
    "max_params = adult_params.max()\n",
    "\n",
    "def get_param(p, p_min, p_max):\n",
    "    return ((torch.tanh(p) + 1) / 2) * (p_max - p_min) + p_min"
   ]
  },
  {
   "cell_type": "code",
   "execution_count": 7,
   "metadata": {},
   "outputs": [],
   "source": [
    "# system parameters\n",
    "_kp2  = torch.tensor(mean_params[\"kp2\"]) \n",
    "_k1   = torch.tensor(mean_params[\"k1\"])\n",
    "_k2   = torch.tensor(mean_params[\"k2\"])\n",
    "_kp1  = torch.tensor(mean_params[\"kp1\"])\n",
    "_ki   = torch.tensor(mean_params[\"ki\"])\n",
    "_ke1  = torch.tensor(mean_params[\"ke1\"])\n",
    "_kmax = torch.tensor(mean_params[\"kmax\"])\n",
    "_kmin = torch.tensor(mean_params[\"kmin\"])\n",
    "_kabs = torch.tensor(mean_params[\"kabs\"])\n",
    "_kp3  = torch.tensor(mean_params[\"kp3\"])\n",
    "_params = torch.tensor([_kp2, _k1, _k2, _kp1, _ki, _ke1, _kmax, _kmin, _kabs, _kp3])"
   ]
  },
  {
   "cell_type": "code",
   "execution_count": 8,
   "metadata": {},
   "outputs": [],
   "source": [
    "# required data structures\n",
    "Action = namedtuple(\"patient_action\", ['CHO', 'insulin'])"
   ]
  },
  {
   "cell_type": "code",
   "execution_count": 9,
   "metadata": {},
   "outputs": [],
   "source": [
    "in_time = torch.tensor(data_t)\n",
    "in_CHO = torch.tensor(data_CHO)\n",
    "in_insulin = torch.tensor(data_insulin)\n",
    "\n",
    "def ode(t, x):\n",
    "    # instantiate derivatives\n",
    "    dxdt = torch.zeros(13)\n",
    "\n",
    "    # parameters\n",
    "    params = mean_params\n",
    "    kabs = get_param(_kabs, min_params[\"kabs\"], max_params[\"kabs\"])\n",
    "    kmax = get_param(_kmax, min_params[\"kmax\"], max_params[\"kmax\"])\n",
    "    kmin = get_param(_kmin, min_params[\"kmin\"], max_params[\"kmin\"])\n",
    "    k2 = get_param(_k2, min_params[\"k2\"], max_params[\"k2\"])\n",
    "    k1 = get_param(_k1, min_params[\"k1\"], max_params[\"k1\"])\n",
    "    ki = get_param(_ki, min_params[\"ki\"], max_params[\"ki\"])\n",
    "    kp2 = get_param(_kp2, min_params[\"kp2\"], max_params[\"kp2\"])\n",
    "    kp3 = get_param(_kp3, min_params[\"kp3\"], max_params[\"kp3\"])\n",
    "    ke1 = get_param(_ke1, min_params[\"ke1\"], max_params[\"ke1\"])\n",
    "    kp1 = get_param(_kp1, min_params[\"kp1\"], max_params[\"kp1\"])\n",
    "\n",
    "    # get current action\n",
    "    t_mask = torch.abs(in_time - t).argmin()\n",
    "    action = Action(CHO=in_CHO[t_mask], insulin=in_insulin[t_mask])\n",
    "\n",
    "    d = action.CHO * 1000 # g -> mg\n",
    "    insulin = action.insulin * 6000 / params.BW\n",
    "\n",
    "    # glucose in the stomach\n",
    "    qsto = x[0] + x[1]\n",
    "\n",
    "    last_foodtaken = 0\n",
    "    if t_mask > 0:\n",
    "        last_foodtaken = in_CHO[t_mask - 1]\n",
    "    \n",
    "    Dbar = last_foodtaken * 1000 # unit: mg\n",
    "\n",
    "    # stomach solid\n",
    "    dxdt[0] = -kmax * x[0] + d\n",
    "\n",
    "    if Dbar > 0:\n",
    "        aa = 5 / 2 / (1 - params.b) / Dbar\n",
    "        cc = 5 / 2 / params.d / Dbar\n",
    "        kgut = kmin + (kmax - kmin) / 2 * (\n",
    "            torch.tanh(aa * (qsto - params.b * Dbar))\n",
    "            - torch.tanh(cc * (qsto - params.d * Dbar))\n",
    "            + 2\n",
    "        )\n",
    "    else:\n",
    "        kgut = kmax\n",
    "\n",
    "    # stomach liquid\n",
    "    dxdt[1] = kmax * x[0] - x[1] * kgut\n",
    "\n",
    "    # intestine\n",
    "    dxdt[2] = kgut * x[1] - kabs * x[2]\n",
    "\n",
    "    # Rate of appearance\n",
    "    Rat = params.f * kabs * x[2] / params.BW\n",
    "    # Glucose Production\n",
    "    EGPt = kp1 - kp2 * x[3] - kp3 * x[8]\n",
    "    # Glucose Utilization\n",
    "    Uiit = params.Fsnc\n",
    "\n",
    "    # renal excretion\n",
    "    if x[3] > params.ke2:\n",
    "        Et = ke1 * (x[3] - params.ke2)\n",
    "    else:\n",
    "        Et = 0\n",
    "\n",
    "    # glucose kinetics\n",
    "    # plus dextrose IV injection input u[2] if needed\n",
    "    dxdt[3] = max(EGPt, 0) + Rat - Uiit - Et - k1 * x[3] + k2 * x[4]\n",
    "    dxdt[3] = (x[3] >= 0) * dxdt[3]\n",
    "\n",
    "    Vmt = params.Vm0 + params.Vmx * x[6]\n",
    "    Kmt = params.Km0\n",
    "    Uidt = Vmt * x[4] / (Kmt + x[4])\n",
    "    dxdt[4] = -Uidt + k1 * x[3] - k2 * x[4]\n",
    "    dxdt[4] = (x[4] >= 0) * dxdt[4]\n",
    "\n",
    "    # insulin kinetics\n",
    "    dxdt[5] = (\n",
    "        -(params.m2 + params.m4) * x[5]\n",
    "        + params.m1 * x[9]\n",
    "        + params.ka1 * x[10]\n",
    "        + params.ka2 * x[11]\n",
    "    )  # plus insulin IV injection u[3] if needed\n",
    "    It = x[5] / params.Vi\n",
    "    dxdt[5] = (x[5] >= 0) * dxdt[5]\n",
    "\n",
    "    # insulin action on glucose utilization\n",
    "    dxdt[6] = -params.p2u * x[6] + params.p2u * (It - params.Ib)\n",
    "\n",
    "    # insulin action on production\n",
    "    dxdt[7] = -ki * (x[7] - It)\n",
    "\n",
    "    dxdt[8] = -ki * (x[8] - x[7])\n",
    "\n",
    "    # insulin in the liver (pmol/kg)\n",
    "    dxdt[9] = -(params.m1 + params.m30) * x[9] + params.m2 * x[5]\n",
    "    dxdt[9] = (x[9] >= 0) * dxdt[9]\n",
    "\n",
    "    # subcutaneous insulin kinetics\n",
    "    dxdt[10] = insulin - (params.ka1 + params.kd) * x[10]\n",
    "    dxdt[10] = (x[10] >= 0) * dxdt[10]\n",
    "\n",
    "    dxdt[11] = params.kd * x[10] - params.ka2 * x[11]\n",
    "    dxdt[11] = (x[11] >= 0) * dxdt[11]\n",
    "\n",
    "    # subcutaneous glucose\n",
    "    dxdt[12] = -params.ksc * x[12] + params.ksc * x[3]\n",
    "    dxdt[12] = (x[12] >= 0) * dxdt[12]\n",
    "\n",
    "    return dxdt"
   ]
  },
  {
   "cell_type": "code",
   "execution_count": 10,
   "metadata": {},
   "outputs": [],
   "source": [
    "# initial conditions\n",
    "f_0 = torch.tensor(mean_params.iloc[2:15], dtype=torch.float32)"
   ]
  },
  {
   "cell_type": "code",
   "execution_count": 11,
   "metadata": {},
   "outputs": [],
   "source": [
    "# timespan\n",
    "tspan = (data_t[0], data_t[-1])"
   ]
  },
  {
   "cell_type": "code",
   "execution_count": 12,
   "metadata": {},
   "outputs": [],
   "source": [
    "# enfore ICs\n",
    "def output_transform(t, u, u_0):\n",
    "    return u * torch.tanh(t) + u_0"
   ]
  },
  {
   "cell_type": "code",
   "execution_count": 13,
   "metadata": {},
   "outputs": [],
   "source": [
    "# loss criterion\n",
    "class RMSLELoss(nn.Module):\n",
    "    def __init__(self):\n",
    "        super().__init__()\n",
    "        self.mse = nn.MSELoss()\n",
    "        \n",
    "    def forward(self, pred, actual):\n",
    "        return torch.sqrt(self.mse(torch.log(pred + 1), torch.log(actual + 1)))\n",
    "\n",
    "# loss criterion\n",
    "class MSLELoss(nn.Module):\n",
    "    def __init__(self):\n",
    "        super().__init__()\n",
    "        self.mse = nn.MSELoss()\n",
    "        \n",
    "    def forward(self, pred, actual):\n",
    "        return self.mse(torch.log(pred + 1), torch.log(actual + 1))"
   ]
  },
  {
   "cell_type": "code",
   "execution_count": 14,
   "metadata": {},
   "outputs": [],
   "source": [
    "# generate features\n",
    "if device.type == 'cuda':\n",
    "    t = torch.cuda.FloatTensor(100, 1).uniform_(*tspan)\n",
    "else:\n",
    "    t = torch.FloatTensor(100, 1).uniform_(*tspan)\n",
    "t.requires_grad_(True)\n",
    "\n",
    "# ODE loss\n",
    "def ode_loss(model, ode, criterion, f_0):\n",
    "    # get preds\n",
    "    NN_t = model(t)\n",
    "    NN_t = output_transform(t, NN_t, f_0)\n",
    "\n",
    "    dNN_dt = torch.hstack([\n",
    "        autograd.grad(\n",
    "            NN_t[:, i:i+1],\n",
    "            t,\n",
    "            grad_outputs=torch.ones_like(t),\n",
    "            create_graph=True,\n",
    "            retain_graph=True,\n",
    "        )[0]\n",
    "        for i in range(13)\n",
    "    ])\n",
    "\n",
    "    df_dt = torch.vstack([ode(t_i, x_i) for (t_i, x_i) in zip(t, NN_t)])\n",
    "\n",
    "    loss = criterion(dNN_dt, df_dt)\n",
    "\n",
    "    return loss"
   ]
  },
  {
   "cell_type": "code",
   "execution_count": 15,
   "metadata": {},
   "outputs": [],
   "source": [
    "# train model for given number of epochs\n",
    "def train(model, opt, criterion, loader, epochs, informed=False, logfreq=100):\n",
    "    # train model\n",
    "    loss_history = []\n",
    "    for epoch in (pbar := trange(epochs)):\n",
    "        loss_batch = 0\n",
    "        for i, data in enumerate(loader):\n",
    "            opt.zero_grad()\n",
    "\n",
    "            features, targets = data\n",
    "\n",
    "            preds = model(features)[:, 12:13] / mean_params.Vg\n",
    "            loss = criterion(preds, targets)\n",
    "\n",
    "            # ode loss\n",
    "            if informed:\n",
    "                loss += ode_loss(model, ode, criterion, f_0)\n",
    "\n",
    "            loss.backward()\n",
    "            opt.step()\n",
    "\n",
    "            loss_batch += loss.item()\n",
    "        loss_batch = loss_batch / len(loader)\n",
    "\n",
    "        if epoch % logfreq == 0 or epoch == epochs - 1:\n",
    "            pbar.set_postfix(loss=f\"{loss_batch:.2e}\")\n",
    "            loss_history.append(loss_batch)\n",
    "\n",
    "    return loss_history"
   ]
  },
  {
   "cell_type": "code",
   "execution_count": 16,
   "metadata": {},
   "outputs": [],
   "source": [
    "# network\n",
    "model = nn.Sequential(\n",
    "    nn.Linear(1, 32),\n",
    "    nn.SiLU(),\n",
    "    nn.Linear(32, 32),\n",
    "    nn.SiLU(),\n",
    "    nn.Linear(32, 32),\n",
    "    nn.SiLU(),\n",
    "    nn.Linear(32, 32),\n",
    "    nn.SiLU(),\n",
    "    nn.Linear(32, 32),\n",
    "    nn.SiLU(),\n",
    "    nn.Linear(32, 32),\n",
    "    nn.SiLU(),\n",
    "    nn.Linear(32, 13),\n",
    ")\n",
    "\n",
    "# optimizer\n",
    "opt = optim.Adam(model.parameters())\n",
    "\n",
    "# loss\n",
    "criterion = nn.MSELoss()"
   ]
  },
  {
   "cell_type": "code",
   "execution_count": 17,
   "metadata": {},
   "outputs": [
    {
     "data": {
      "application/vnd.jupyter.widget-view+json": {
       "model_id": "56fbdf766c59409cb954d4ba466220b2",
       "version_major": 2,
       "version_minor": 0
      },
      "text/plain": [
       "  0%|          | 0/10000 [00:00<?, ?it/s]"
      ]
     },
     "metadata": {},
     "output_type": "display_data"
    },
    {
     "ename": "KeyboardInterrupt",
     "evalue": "",
     "output_type": "error",
     "traceback": [
      "\u001b[0;31m---------------------------------------------------------------------------\u001b[0m",
      "\u001b[0;31mKeyboardInterrupt\u001b[0m                         Traceback (most recent call last)",
      "Cell \u001b[0;32mIn[17], line 3\u001b[0m\n\u001b[1;32m      1\u001b[0m \u001b[39m# train network\u001b[39;00m\n\u001b[1;32m      2\u001b[0m epochs \u001b[39m=\u001b[39m \u001b[39m10_000\u001b[39m\n\u001b[0;32m----> 3\u001b[0m loss_history \u001b[39m=\u001b[39m train(model, opt, criterion, loader, epochs)\n",
      "Cell \u001b[0;32mIn[15], line 19\u001b[0m, in \u001b[0;36mtrain\u001b[0;34m(model, opt, criterion, loader, epochs, informed, logfreq)\u001b[0m\n\u001b[1;32m     16\u001b[0m \u001b[39mif\u001b[39;00m informed:\n\u001b[1;32m     17\u001b[0m     loss \u001b[39m+\u001b[39m\u001b[39m=\u001b[39m ode_loss(model, ode, criterion, f_0)\n\u001b[0;32m---> 19\u001b[0m loss\u001b[39m.\u001b[39;49mbackward()\n\u001b[1;32m     20\u001b[0m opt\u001b[39m.\u001b[39mstep()\n\u001b[1;32m     22\u001b[0m loss_batch \u001b[39m+\u001b[39m\u001b[39m=\u001b[39m loss\u001b[39m.\u001b[39mitem()\n",
      "File \u001b[0;32m~/miniconda3/envs/v/lib/python3.10/site-packages/torch/_tensor.py:488\u001b[0m, in \u001b[0;36mTensor.backward\u001b[0;34m(self, gradient, retain_graph, create_graph, inputs)\u001b[0m\n\u001b[1;32m    478\u001b[0m \u001b[39mif\u001b[39;00m has_torch_function_unary(\u001b[39mself\u001b[39m):\n\u001b[1;32m    479\u001b[0m     \u001b[39mreturn\u001b[39;00m handle_torch_function(\n\u001b[1;32m    480\u001b[0m         Tensor\u001b[39m.\u001b[39mbackward,\n\u001b[1;32m    481\u001b[0m         (\u001b[39mself\u001b[39m,),\n\u001b[0;32m   (...)\u001b[0m\n\u001b[1;32m    486\u001b[0m         inputs\u001b[39m=\u001b[39minputs,\n\u001b[1;32m    487\u001b[0m     )\n\u001b[0;32m--> 488\u001b[0m torch\u001b[39m.\u001b[39;49mautograd\u001b[39m.\u001b[39;49mbackward(\n\u001b[1;32m    489\u001b[0m     \u001b[39mself\u001b[39;49m, gradient, retain_graph, create_graph, inputs\u001b[39m=\u001b[39;49minputs\n\u001b[1;32m    490\u001b[0m )\n",
      "File \u001b[0;32m~/miniconda3/envs/v/lib/python3.10/site-packages/torch/autograd/__init__.py:197\u001b[0m, in \u001b[0;36mbackward\u001b[0;34m(tensors, grad_tensors, retain_graph, create_graph, grad_variables, inputs)\u001b[0m\n\u001b[1;32m    192\u001b[0m     retain_graph \u001b[39m=\u001b[39m create_graph\n\u001b[1;32m    194\u001b[0m \u001b[39m# The reason we repeat same the comment below is that\u001b[39;00m\n\u001b[1;32m    195\u001b[0m \u001b[39m# some Python versions print out the first line of a multi-line function\u001b[39;00m\n\u001b[1;32m    196\u001b[0m \u001b[39m# calls in the traceback and some print out the last line\u001b[39;00m\n\u001b[0;32m--> 197\u001b[0m Variable\u001b[39m.\u001b[39;49m_execution_engine\u001b[39m.\u001b[39;49mrun_backward(  \u001b[39m# Calls into the C++ engine to run the backward pass\u001b[39;49;00m\n\u001b[1;32m    198\u001b[0m     tensors, grad_tensors_, retain_graph, create_graph, inputs,\n\u001b[1;32m    199\u001b[0m     allow_unreachable\u001b[39m=\u001b[39;49m\u001b[39mTrue\u001b[39;49;00m, accumulate_grad\u001b[39m=\u001b[39;49m\u001b[39mTrue\u001b[39;49;00m)\n",
      "\u001b[0;31mKeyboardInterrupt\u001b[0m: "
     ]
    }
   ],
   "source": [
    "# train network\n",
    "epochs = 10_000\n",
    "loss_history = train(model, opt, criterion, loader, epochs)"
   ]
  },
  {
   "cell_type": "code",
   "execution_count": 18,
   "metadata": {},
   "outputs": [
    {
     "ename": "NameError",
     "evalue": "name 'loss_history' is not defined",
     "output_type": "error",
     "traceback": [
      "\u001b[0;31m---------------------------------------------------------------------------\u001b[0m",
      "\u001b[0;31mNameError\u001b[0m                                 Traceback (most recent call last)",
      "Cell \u001b[0;32mIn[18], line 1\u001b[0m\n\u001b[0;32m----> 1\u001b[0m plt\u001b[39m.\u001b[39mplot(loss_history, \u001b[39m\"\u001b[39m\u001b[39mr\u001b[39m\u001b[39m\"\u001b[39m)\n\u001b[1;32m      2\u001b[0m plt\u001b[39m.\u001b[39mshow()\n",
      "\u001b[0;31mNameError\u001b[0m: name 'loss_history' is not defined"
     ]
    }
   ],
   "source": [
    "plt.plot(loss_history, \"r\")\n",
    "plt.show()"
   ]
  },
  {
   "cell_type": "code",
   "execution_count": 19,
   "metadata": {},
   "outputs": [
    {
     "data": {
      "image/png": "[encoded data removed]",
      "text/plain": [
       "<Figure size 640x480 with 1 Axes>"
      ]
     },
     "metadata": {},
     "output_type": "display_data"
    }
   ],
   "source": [
    "with torch.no_grad():\n",
    "    plt.plot(data_t, data_CGM, \"r\")\n",
    "    plt.plot(data_t, model(tensor_t).cpu()[:, 12:13] / mean_params.Vg, \"b\")\n",
    "    plt.show()"
   ]
  },
  {
   "cell_type": "code",
   "execution_count": 20,
   "metadata": {},
   "outputs": [
    {
     "data": {
      "application/vnd.jupyter.widget-view+json": {
       "model_id": "323e9998bf09485c9694d7b5f9b289e1",
       "version_major": 2,
       "version_minor": 0
      },
      "text/plain": [
       "  0%|          | 0/1000 [00:00<?, ?it/s]"
      ]
     },
     "metadata": {},
     "output_type": "display_data"
    },
    {
     "ename": "KeyboardInterrupt",
     "evalue": "",
     "output_type": "error",
     "traceback": [
      "\u001b[0;31m---------------------------------------------------------------------------\u001b[0m",
      "\u001b[0;31mKeyboardInterrupt\u001b[0m                         Traceback (most recent call last)",
      "Cell \u001b[0;32mIn[20], line 3\u001b[0m\n\u001b[1;32m      1\u001b[0m \u001b[39m# train network (informed loss)\u001b[39;00m\n\u001b[1;32m      2\u001b[0m epochs \u001b[39m=\u001b[39m \u001b[39m1000\u001b[39m\n\u001b[0;32m----> 3\u001b[0m loss_history \u001b[39m=\u001b[39m train(model, opt, criterion, loader, epochs, informed\u001b[39m=\u001b[39;49m\u001b[39mTrue\u001b[39;49;00m)\n",
      "Cell \u001b[0;32mIn[15], line 19\u001b[0m, in \u001b[0;36mtrain\u001b[0;34m(model, opt, criterion, loader, epochs, informed, logfreq)\u001b[0m\n\u001b[1;32m     16\u001b[0m \u001b[39mif\u001b[39;00m informed:\n\u001b[1;32m     17\u001b[0m     loss \u001b[39m+\u001b[39m\u001b[39m=\u001b[39m ode_loss(model, ode, criterion, f_0)\n\u001b[0;32m---> 19\u001b[0m loss\u001b[39m.\u001b[39;49mbackward()\n\u001b[1;32m     20\u001b[0m opt\u001b[39m.\u001b[39mstep()\n\u001b[1;32m     22\u001b[0m loss_batch \u001b[39m+\u001b[39m\u001b[39m=\u001b[39m loss\u001b[39m.\u001b[39mitem()\n",
      "File \u001b[0;32m~/miniconda3/envs/v/lib/python3.10/site-packages/torch/_tensor.py:488\u001b[0m, in \u001b[0;36mTensor.backward\u001b[0;34m(self, gradient, retain_graph, create_graph, inputs)\u001b[0m\n\u001b[1;32m    478\u001b[0m \u001b[39mif\u001b[39;00m has_torch_function_unary(\u001b[39mself\u001b[39m):\n\u001b[1;32m    479\u001b[0m     \u001b[39mreturn\u001b[39;00m handle_torch_function(\n\u001b[1;32m    480\u001b[0m         Tensor\u001b[39m.\u001b[39mbackward,\n\u001b[1;32m    481\u001b[0m         (\u001b[39mself\u001b[39m,),\n\u001b[0;32m   (...)\u001b[0m\n\u001b[1;32m    486\u001b[0m         inputs\u001b[39m=\u001b[39minputs,\n\u001b[1;32m    487\u001b[0m     )\n\u001b[0;32m--> 488\u001b[0m torch\u001b[39m.\u001b[39;49mautograd\u001b[39m.\u001b[39;49mbackward(\n\u001b[1;32m    489\u001b[0m     \u001b[39mself\u001b[39;49m, gradient, retain_graph, create_graph, inputs\u001b[39m=\u001b[39;49minputs\n\u001b[1;32m    490\u001b[0m )\n",
      "File \u001b[0;32m~/miniconda3/envs/v/lib/python3.10/site-packages/torch/autograd/__init__.py:197\u001b[0m, in \u001b[0;36mbackward\u001b[0;34m(tensors, grad_tensors, retain_graph, create_graph, grad_variables, inputs)\u001b[0m\n\u001b[1;32m    192\u001b[0m     retain_graph \u001b[39m=\u001b[39m create_graph\n\u001b[1;32m    194\u001b[0m \u001b[39m# The reason we repeat same the comment below is that\u001b[39;00m\n\u001b[1;32m    195\u001b[0m \u001b[39m# some Python versions print out the first line of a multi-line function\u001b[39;00m\n\u001b[1;32m    196\u001b[0m \u001b[39m# calls in the traceback and some print out the last line\u001b[39;00m\n\u001b[0;32m--> 197\u001b[0m Variable\u001b[39m.\u001b[39;49m_execution_engine\u001b[39m.\u001b[39;49mrun_backward(  \u001b[39m# Calls into the C++ engine to run the backward pass\u001b[39;49;00m\n\u001b[1;32m    198\u001b[0m     tensors, grad_tensors_, retain_graph, create_graph, inputs,\n\u001b[1;32m    199\u001b[0m     allow_unreachable\u001b[39m=\u001b[39;49m\u001b[39mTrue\u001b[39;49;00m, accumulate_grad\u001b[39m=\u001b[39;49m\u001b[39mTrue\u001b[39;49;00m)\n",
      "\u001b[0;31mKeyboardInterrupt\u001b[0m: "
     ]
    }
   ],
   "source": [
    "# train network (informed loss)\n",
    "epochs = 1000\n",
    "loss_history = train(model, opt, criterion, loader, epochs, informed=True)"
   ]
  },
  {
   "cell_type": "code",
   "execution_count": 21,
   "metadata": {},
   "outputs": [
    {
     "data": {
      "image/png": "[encoded data removed]",
      "text/plain": [
       "<Figure size 640x480 with 1 Axes>"
      ]
     },
     "metadata": {},
     "output_type": "display_data"
    }
   ],
   "source": [
    "with torch.no_grad():\n",
    "    plt.plot(data_t, data_CGM, \"r\")\n",
    "    plt.plot(data_t, model(tensor_t).cpu()[:, 12:13] / mean_params.Vg, \"b\")\n",
    "    plt.show()"
   ]
  },
  {
   "cell_type": "code",
   "execution_count": 23,
   "metadata": {},
   "outputs": [
    {
     "data": {
      "text/plain": [
       "tensor(0.3263, dtype=torch.float64)"
      ]
     },
     "execution_count": 23,
     "metadata": {},
     "output_type": "execute_result"
    }
   ],
   "source": [
    "get_param(_kabs, min_params[\"kabs\"], max_params[\"kabs\"])"
   ]
  },
  {
   "cell_type": "code",
   "execution_count": 25,
   "metadata": {},
   "outputs": [
    {
     "data": {
      "text/plain": [
       "0.08906"
      ]
     },
     "execution_count": 25,
     "metadata": {},
     "output_type": "execute_result"
    }
   ],
   "source": [
    "mean_params[\"kabs\"]"
   ]
  },
  {
   "cell_type": "code",
   "execution_count": 32,
   "metadata": {},
   "outputs": [
    {
     "data": {
      "text/plain": [
       "0.08906"
      ]
     },
     "execution_count": 32,
     "metadata": {},
     "output_type": "execute_result"
    }
   ],
   "source": [
    "adult_params.loc[10, :].kabs"
   ]
  },
  {
   "cell_type": "code",
   "execution_count": null,
   "metadata": {},
   "outputs": [],
   "source": []
  }
 ],
 "metadata": {
  "kernelspec": {
   "display_name": "v",
   "language": "python",
   "name": "python3"
  },
  "language_info": {
   "codemirror_mode": {
    "name": "ipython",
    "version": 3
   },
   "file_extension": ".py",
   "mimetype": "text/x-python",
   "name": "python",
   "nbconvert_exporter": "python",
   "pygments_lexer": "ipython3",
   "version": "3.10.8"
  },
  "orig_nbformat": 4
 },
 "nbformat": 4,
 "nbformat_minor": 2
}
