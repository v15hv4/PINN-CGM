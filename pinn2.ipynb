{
 "cells": [
  {
   "cell_type": "code",
   "execution_count": 1,
   "metadata": {},
   "outputs": [],
   "source": [
    "import torch\n",
    "import torch.nn as nn\n",
    "import torch.optim as optim\n",
    "import torch.nn.functional as F\n",
    "import torch.autograd as autograd\n",
    "\n",
    "import numpy as np\n",
    "import pandas as pd\n",
    "import seaborn as sns\n",
    "import matplotlib.pyplot as plt\n",
    "\n",
    "from utils import dt2int\n",
    "from torchdiffeq import odeint\n",
    "from collections import namedtuple\n",
    "from tqdm.notebook import tqdm, trange"
   ]
  },
  {
   "cell_type": "code",
   "execution_count": 2,
   "metadata": {},
   "outputs": [],
   "source": [
    "sns.set_style('whitegrid')\n",
    "\n",
    "tqdm.pandas()"
   ]
  },
  {
   "cell_type": "code",
   "execution_count": 3,
   "metadata": {},
   "outputs": [],
   "source": [
    "# read data\n",
    "data = pd.read_csv(\"results/adult#001.csv\")\n",
    "\n",
    "# destructure data\n",
    "data_t = data[\"Time\"].map(lambda d: dt2int(d, fmt=\"%Y-%m-%d %H:%M:%S.%f\")).to_numpy()\n",
    "data_BG = data[\"BG\"].to_numpy()\n",
    "data_CGM = data[\"CGM\"].to_numpy()\n",
    "data_CHO = data[\"CHO\"].to_numpy()\n",
    "data_insulin = data[\"insulin\"].to_numpy()\n",
    "\n",
    "# normalize time\n",
    "data_t -= data_t[0]\n",
    "\n",
    "# scale down to minutes\n",
    "data_t = data_t / 60.0\n",
    "\n",
    "# clean\n",
    "data_CHO = np.nan_to_num(data_CHO, nan=data_CHO[0])\n",
    "data_insulin = np.nan_to_num(data_insulin, nan=data_insulin[0])"
   ]
  },
  {
   "cell_type": "code",
   "execution_count": 4,
   "metadata": {},
   "outputs": [],
   "source": [
    "in_time = torch.from_numpy(data_t).float()\n",
    "in_CHO = torch.from_numpy(data_CHO).float()\n",
    "in_insulin = torch.from_numpy(data_insulin).float()\n",
    "in_CGM = torch.from_numpy(data_CGM).float()"
   ]
  },
  {
   "cell_type": "code",
   "execution_count": 5,
   "metadata": {},
   "outputs": [],
   "source": [
    "# load parameters\n",
    "orig_params = pd.read_csv(\"parameters/vpatient_params.csv\")\n",
    "mean_params = orig_params.loc[orig_params[\"Name\"] == \"adult#001\"].squeeze()\n",
    "mean_params = mean_params.rename(lambda x: x.replace(\" \", \"\"))\n",
    "adult_params = orig_params[orig_params.Name.str.contains(\"adult\")]\n",
    "\n",
    "min_params = adult_params.min()\n",
    "max_params = adult_params.max()\n",
    "\n",
    "def get_param(p, p_min, p_max):\n",
    "    return ((torch.tanh(p) + 1) / 2) * (p_max - p_min) + p_min"
   ]
  },
  {
   "cell_type": "code",
   "execution_count": 6,
   "metadata": {},
   "outputs": [],
   "source": [
    "# system parameters\n",
    "_kp2  = torch.tensor(mean_params[\"kp2\"]) \n",
    "_k1   = torch.tensor(mean_params[\"k1\"])\n",
    "_k2   = torch.tensor(mean_params[\"k2\"])\n",
    "_kp1  = torch.tensor(mean_params[\"kp1\"])\n",
    "_ki   = torch.tensor(mean_params[\"ki\"])\n",
    "_ke1  = torch.tensor(mean_params[\"ke1\"])\n",
    "_kmax = torch.tensor(mean_params[\"kmax\"])\n",
    "_kmin = torch.tensor(mean_params[\"kmin\"])\n",
    "_kabs = torch.tensor(mean_params[\"kabs\"])\n",
    "_kp3  = torch.tensor(mean_params[\"kp3\"])"
   ]
  },
  {
   "cell_type": "code",
   "execution_count": 7,
   "metadata": {},
   "outputs": [],
   "source": [
    "# required data structures\n",
    "Action = namedtuple(\"patient_action\", ['CHO', 'insulin'])"
   ]
  },
  {
   "cell_type": "code",
   "execution_count": 8,
   "metadata": {},
   "outputs": [],
   "source": [
    "def ode(t, x):\n",
    "    # instantiate derivatives\n",
    "    dxdt = torch.zeros(13)\n",
    "\n",
    "    # parameters\n",
    "    params = mean_params\n",
    "    kabs = get_param(_kabs, min_params[\"kabs\"], max_params[\"kabs\"])\n",
    "    kmax = get_param(_kmax, min_params[\"kmax\"], max_params[\"kmax\"])\n",
    "    kmin = get_param(_kmin, min_params[\"kmin\"], max_params[\"kmin\"])\n",
    "    k2 = get_param(_k2, min_params[\"k2\"], max_params[\"k2\"])\n",
    "    k1 = get_param(_k1, min_params[\"k1\"], max_params[\"k1\"])\n",
    "    ki = get_param(_ki, min_params[\"ki\"], max_params[\"ki\"])\n",
    "    kp2 = get_param(_kp2, min_params[\"kp2\"], max_params[\"kp2\"])\n",
    "    kp3 = get_param(_kp3, min_params[\"kp3\"], max_params[\"kp3\"])\n",
    "    ke1 = get_param(_ke1, min_params[\"ke1\"], max_params[\"ke1\"])\n",
    "    kp1 = get_param(_kp1, min_params[\"kp1\"], max_params[\"kp1\"])\n",
    "\n",
    "    # get current action\n",
    "    t_mask = torch.abs(in_time - t).argmin()\n",
    "    action = Action(CHO=in_CHO[t_mask], insulin=in_insulin[t_mask])\n",
    "\n",
    "    d = action.CHO * 1000 # g -> mg\n",
    "    insulin = action.insulin * 6000 / params.BW\n",
    "\n",
    "    # glucose in the stomach\n",
    "    qsto = x[0] + x[1]\n",
    "\n",
    "    last_foodtaken = 0\n",
    "    if t_mask > 0:\n",
    "        last_foodtaken = in_CHO[t_mask - 1]\n",
    "    \n",
    "    Dbar = last_foodtaken * 1000 # unit: mg\n",
    "\n",
    "    # stomach solid\n",
    "    dxdt[0] = -kmax * x[0] + d\n",
    "\n",
    "    if Dbar > 0:\n",
    "        aa = 5 / 2 / (1 - params.b) / Dbar\n",
    "        cc = 5 / 2 / params.d / Dbar\n",
    "        kgut = kmin + (kmax - kmin) / 2 * (\n",
    "            torch.tanh(aa * (qsto - params.b * Dbar))\n",
    "            - torch.tanh(cc * (qsto - params.d * Dbar))\n",
    "            + 2\n",
    "        )\n",
    "    else:\n",
    "        kgut = kmax\n",
    "\n",
    "    # stomach liquid\n",
    "    dxdt[1] = kmax * x[0] - x[1] * kgut\n",
    "\n",
    "    # intestine\n",
    "    dxdt[2] = kgut * x[1] - kabs * x[2]\n",
    "\n",
    "    # Rate of appearance\n",
    "    Rat = params.f * kabs * x[2] / params.BW\n",
    "    # Glucose Production\n",
    "    EGPt = kp1 - kp2 * x[3] - kp3 * x[8]\n",
    "    # Glucose Utilization\n",
    "    Uiit = params.Fsnc\n",
    "\n",
    "    # renal excretion\n",
    "    if x[3] > params.ke2:\n",
    "        Et = ke1 * (x[3] - params.ke2)\n",
    "    else:\n",
    "        Et = 0\n",
    "\n",
    "    # glucose kinetics\n",
    "    # plus dextrose IV injection input u[2] if needed\n",
    "    dxdt[3] = max(EGPt, 0) + Rat - Uiit - Et - k1 * x[3] + k2 * x[4]\n",
    "    dxdt[3] = (x[3] >= 0) * dxdt[3]\n",
    "\n",
    "    Vmt = params.Vm0 + params.Vmx * x[6]\n",
    "    Kmt = params.Km0\n",
    "    Uidt = Vmt * x[4] / (Kmt + x[4])\n",
    "    dxdt[4] = -Uidt + k1 * x[3] - k2 * x[4]\n",
    "    dxdt[4] = (x[4] >= 0) * dxdt[4]\n",
    "\n",
    "    # insulin kinetics\n",
    "    dxdt[5] = (\n",
    "        -(params.m2 + params.m4) * x[5]\n",
    "        + params.m1 * x[9]\n",
    "        + params.ka1 * x[10]\n",
    "        + params.ka2 * x[11]\n",
    "    )  # plus insulin IV injection u[3] if needed\n",
    "    It = x[5] / params.Vi\n",
    "    dxdt[5] = (x[5] >= 0) * dxdt[5]\n",
    "\n",
    "    # insulin action on glucose utilization\n",
    "    dxdt[6] = -params.p2u * x[6] + params.p2u * (It - params.Ib)\n",
    "\n",
    "    # insulin action on production\n",
    "    dxdt[7] = -ki * (x[7] - It)\n",
    "\n",
    "    dxdt[8] = -ki * (x[8] - x[7])\n",
    "\n",
    "    # insulin in the liver (pmol/kg)\n",
    "    dxdt[9] = -(params.m1 + params.m30) * x[9] + params.m2 * x[5]\n",
    "    dxdt[9] = (x[9] >= 0) * dxdt[9]\n",
    "\n",
    "    # subcutaneous insulin kinetics\n",
    "    dxdt[10] = insulin - (params.ka1 + params.kd) * x[10]\n",
    "    dxdt[10] = (x[10] >= 0) * dxdt[10]\n",
    "\n",
    "    dxdt[11] = params.kd * x[10] - params.ka2 * x[11]\n",
    "    dxdt[11] = (x[11] >= 0) * dxdt[11]\n",
    "\n",
    "    # subcutaneous glucose\n",
    "    dxdt[12] = -params.ksc * x[12] + params.ksc * x[3]\n",
    "    dxdt[12] = (x[12] >= 0) * dxdt[12]\n",
    "\n",
    "    return dxdt"
   ]
  },
  {
   "cell_type": "code",
   "execution_count": 9,
   "metadata": {},
   "outputs": [],
   "source": [
    "# initial conditions\n",
    "f_0 = torch.tensor(mean_params.iloc[2:15], dtype=torch.float32)"
   ]
  },
  {
   "cell_type": "code",
   "execution_count": 10,
   "metadata": {},
   "outputs": [],
   "source": [
    "# timespan\n",
    "tspan = (data_t[0], data_t[-1])"
   ]
  },
  {
   "cell_type": "code",
   "execution_count": 11,
   "metadata": {},
   "outputs": [],
   "source": [
    "# enfore ICs\n",
    "def output_transform(t, u, u_0):\n",
    "    return u * torch.tanh(t) + u_0"
   ]
  },
  {
   "cell_type": "code",
   "execution_count": 18,
   "metadata": {},
   "outputs": [],
   "source": [
    "# generate features\n",
    "t = torch.FloatTensor(100, 1).uniform_(*tspan)\n",
    "t.requires_grad_(True)\n",
    "\n",
    "# ODE loss\n",
    "def ode_loss(model, ode, f_0):\n",
    "    # get preds\n",
    "    NN_t = model(t)\n",
    "    NN_t = output_transform(t, NN_t, f_0)\n",
    "\n",
    "    dNN_dt = torch.hstack([\n",
    "        autograd.grad(\n",
    "            NN_t[:, i:i+1],\n",
    "            t,\n",
    "            grad_outputs=torch.ones_like(t),\n",
    "            create_graph=True,\n",
    "            retain_graph=True,\n",
    "        )[0]\n",
    "        for i in range(13)\n",
    "    ])\n",
    "\n",
    "    df_dt = ode(t, NN_t)\n",
    "\n",
    "    loss = F.mse_loss(dNN_dt, df_dt)\n",
    "\n",
    "    return loss"
   ]
  },
  {
   "cell_type": "code",
   "execution_count": 19,
   "metadata": {},
   "outputs": [],
   "source": [
    "# train model for given number of epochs\n",
    "def train(model, opt, epochs, informed=False, logfreq=100):\n",
    "\n",
    "    # train model\n",
    "    loss_history = []\n",
    "    for epoch in (pbar := trange(epochs)):\n",
    "        opt.zero_grad()\n",
    "\n",
    "        features = in_time.reshape(-1, 1)\n",
    "        preds = model(features)[:, 12:13] / mean_params.Vg\n",
    "        loss = F.mse_loss(preds, in_CGM.reshape(-1, 1))\n",
    "\n",
    "        # ode loss\n",
    "        if informed:\n",
    "            loss += ode_loss(model, ode, f_0)\n",
    "\n",
    "        loss.backward()\n",
    "        opt.step()\n",
    "\n",
    "        if epoch % logfreq == 0 or epoch == epochs - 1:\n",
    "            pbar.set_postfix(loss=f\"{loss.item():.2e}\")\n",
    "            loss_history.append(loss.item())\n",
    "\n",
    "    return loss_history"
   ]
  },
  {
   "cell_type": "code",
   "execution_count": 20,
   "metadata": {},
   "outputs": [],
   "source": [
    "# network\n",
    "model = nn.Sequential(\n",
    "    nn.Linear(1, 32),\n",
    "    nn.SiLU(),\n",
    "    nn.Linear(32, 32),\n",
    "    nn.SiLU(),\n",
    "    nn.Linear(32, 32),\n",
    "    nn.SiLU(),\n",
    "    nn.Linear(32, 13),\n",
    ")\n",
    "\n",
    "# optimizer\n",
    "opt = optim.Adam(model.parameters())"
   ]
  },
  {
   "cell_type": "code",
   "execution_count": 21,
   "metadata": {},
   "outputs": [
    {
     "data": {
      "application/vnd.jupyter.widget-view+json": {
       "model_id": "db6da9f05a5f48b3bff97f5ae4c02f35",
       "version_major": 2,
       "version_minor": 0
      },
      "text/plain": [
       "  0%|          | 0/1000 [00:00<?, ?it/s]"
      ]
     },
     "metadata": {},
     "output_type": "display_data"
    }
   ],
   "source": [
    "# train network\n",
    "epochs = 1000\n",
    "loss_history = train(model, opt, epochs)"
   ]
  },
  {
   "cell_type": "code",
   "execution_count": 22,
   "metadata": {},
   "outputs": [
    {
     "data": {
      "image/png": "[encoded data removed]",
      "text/plain": [
       "<Figure size 640x480 with 1 Axes>"
      ]
     },
     "metadata": {},
     "output_type": "display_data"
    }
   ],
   "source": [
    "plt.plot(loss_history, \"r\")\n",
    "plt.show()"
   ]
  },
  {
   "cell_type": "code",
   "execution_count": 23,
   "metadata": {},
   "outputs": [
    {
     "data": {
      "application/vnd.jupyter.widget-view+json": {
       "model_id": "349ddaba26f343f18047ca60577278a9",
       "version_major": 2,
       "version_minor": 0
      },
      "text/plain": [
       "  0%|          | 0/1000 [00:00<?, ?it/s]"
      ]
     },
     "metadata": {},
     "output_type": "display_data"
    },
    {
     "ename": "IndexError",
     "evalue": "index 25273 is out of bounds for dimension 0 with size 481",
     "output_type": "error",
     "traceback": [
      "\u001b[0;31m---------------------------------------------------------------------------\u001b[0m",
      "\u001b[0;31mIndexError\u001b[0m                                Traceback (most recent call last)",
      "Cell \u001b[0;32mIn[23], line 3\u001b[0m\n\u001b[1;32m      1\u001b[0m \u001b[39m# train network (informed loss)\u001b[39;00m\n\u001b[1;32m      2\u001b[0m epochs \u001b[39m=\u001b[39m \u001b[39m1000\u001b[39m\n\u001b[0;32m----> 3\u001b[0m loss_history \u001b[39m=\u001b[39m train(model, opt, epochs, informed\u001b[39m=\u001b[39;49m\u001b[39mTrue\u001b[39;49;00m)\n",
      "Cell \u001b[0;32mIn[19], line 15\u001b[0m, in \u001b[0;36mtrain\u001b[0;34m(model, opt, epochs, informed, logfreq)\u001b[0m\n\u001b[1;32m     13\u001b[0m \u001b[39m# ode loss\u001b[39;00m\n\u001b[1;32m     14\u001b[0m \u001b[39mif\u001b[39;00m informed:\n\u001b[0;32m---> 15\u001b[0m     loss \u001b[39m+\u001b[39m\u001b[39m=\u001b[39m ode_loss(model, ode, f_0)\n\u001b[1;32m     17\u001b[0m loss\u001b[39m.\u001b[39mbackward()\n\u001b[1;32m     18\u001b[0m opt\u001b[39m.\u001b[39mstep()\n",
      "Cell \u001b[0;32mIn[18], line 22\u001b[0m, in \u001b[0;36mode_loss\u001b[0;34m(model, ode, f_0)\u001b[0m\n\u001b[1;32m      9\u001b[0m NN_t \u001b[39m=\u001b[39m output_transform(t, NN_t, f_0)\n\u001b[1;32m     11\u001b[0m dNN_dt \u001b[39m=\u001b[39m torch\u001b[39m.\u001b[39mhstack([\n\u001b[1;32m     12\u001b[0m     autograd\u001b[39m.\u001b[39mgrad(\n\u001b[1;32m     13\u001b[0m         NN_t[:, i:i\u001b[39m+\u001b[39m\u001b[39m1\u001b[39m],\n\u001b[0;32m   (...)\u001b[0m\n\u001b[1;32m     19\u001b[0m     \u001b[39mfor\u001b[39;00m i \u001b[39min\u001b[39;00m \u001b[39mrange\u001b[39m(\u001b[39m13\u001b[39m)\n\u001b[1;32m     20\u001b[0m ])\n\u001b[0;32m---> 22\u001b[0m df_dt \u001b[39m=\u001b[39m ode(t, NN_t)\n\u001b[1;32m     24\u001b[0m loss \u001b[39m=\u001b[39m F\u001b[39m.\u001b[39mmse_loss(dNN_dt, df_dt)\n\u001b[1;32m     26\u001b[0m \u001b[39mreturn\u001b[39;00m loss\n",
      "Cell \u001b[0;32mIn[8], line 20\u001b[0m, in \u001b[0;36mode\u001b[0;34m(t, x)\u001b[0m\n\u001b[1;32m     18\u001b[0m \u001b[39m# get current action\u001b[39;00m\n\u001b[1;32m     19\u001b[0m t_mask \u001b[39m=\u001b[39m torch\u001b[39m.\u001b[39mabs(in_time \u001b[39m-\u001b[39m t)\u001b[39m.\u001b[39margmin()\n\u001b[0;32m---> 20\u001b[0m action \u001b[39m=\u001b[39m Action(CHO\u001b[39m=\u001b[39min_CHO[t_mask], insulin\u001b[39m=\u001b[39min_insulin[t_mask])\n\u001b[1;32m     22\u001b[0m d \u001b[39m=\u001b[39m action\u001b[39m.\u001b[39mCHO \u001b[39m*\u001b[39m \u001b[39m1000\u001b[39m \u001b[39m# g -> mg\u001b[39;00m\n\u001b[1;32m     23\u001b[0m insulin \u001b[39m=\u001b[39m action\u001b[39m.\u001b[39minsulin \u001b[39m*\u001b[39m \u001b[39m6000\u001b[39m \u001b[39m/\u001b[39m params\u001b[39m.\u001b[39mBW\n",
      "\u001b[0;31mIndexError\u001b[0m: index 25273 is out of bounds for dimension 0 with size 481"
     ]
    }
   ],
   "source": [
    "# train network (informed loss)\n",
    "epochs = 1000\n",
    "loss_history = train(model, opt, epochs, informed=True)"
   ]
  },
  {
   "cell_type": "code",
   "execution_count": null,
   "metadata": {},
   "outputs": [],
   "source": [
    "# TODO: vectorize ode"
   ]
  }
 ],
 "metadata": {
  "kernelspec": {
   "display_name": "v",
   "language": "python",
   "name": "python3"
  },
  "language_info": {
   "codemirror_mode": {
    "name": "ipython",
    "version": 3
   },
   "file_extension": ".py",
   "mimetype": "text/x-python",
   "name": "python",
   "nbconvert_exporter": "python",
   "pygments_lexer": "ipython3",
   "version": "3.10.8"
  },
  "orig_nbformat": 4
 },
 "nbformat": 4,
 "nbformat_minor": 2
}
