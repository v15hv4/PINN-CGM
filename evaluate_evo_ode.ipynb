{
 "cells": [
  {
   "cell_type": "code",
   "execution_count": 1,
   "metadata": {},
   "outputs": [],
   "source": [
    "import numpy as np\n",
    "import pandas as pd\n",
    "import seaborn as sns\n",
    "import multiprocessing as mp\n",
    "import matplotlib.pyplot as plt\n",
    "\n",
    "from deap import base, creator, tools, cma\n",
    "\n",
    "from utils import dt2int\n",
    "from torchdiffeq import odeint\n",
    "from collections import namedtuple\n",
    "from scipy.integrate import solve_ivp\n",
    "\n",
    "from data import C3RData, interpolate\n",
    "from tqdm.notebook import tqdm, trange\n",
    "from sklearn.metrics import mean_squared_error, mean_squared_log_error"
   ]
  },
  {
   "cell_type": "code",
   "execution_count": 2,
   "metadata": {},
   "outputs": [],
   "source": [
    "# better plots\n",
    "sns.set_style('whitegrid')\n",
    "\n",
    "# better progressbars\n",
    "tqdm.pandas()"
   ]
  },
  {
   "cell_type": "code",
   "execution_count": 3,
   "metadata": {},
   "outputs": [],
   "source": [
    "# required data structures\n",
    "Action = namedtuple(\"patient_action\", ['CHO', 'insulin'])"
   ]
  },
  {
   "cell_type": "code",
   "execution_count": 4,
   "metadata": {},
   "outputs": [],
   "source": [
    "# load dataset\n",
    "c3r = C3RData(data_dir=\"data/\")\n",
    "\n",
    "# get data for a certain case\n",
    "deident_id = 2\n",
    "from_dt = f\"2014-05-05 00:00:00\"\n",
    "to_dt = f\"2014-05-08 00:00:00\"\n",
    "\n",
    "# destructure data\n",
    "cgm_data, meal_data, insulin_data = c3r.get_case(deident_id, from_dt, to_dt)\n",
    "data_t, data_CGM, data_CHO, data_insulin = interpolate(cgm_data, meal_data, insulin_data)\n",
    "\n",
    "# normalize time\n",
    "data_t -= data_t[0]\n",
    "\n",
    "# scale down to minutes\n",
    "data_t = data_t / 60.0\n",
    "\n",
    "# negate delay\n",
    "data_CHO = np.roll(data_CHO, -200)\n",
    "data_insulin = np.roll(data_insulin, -200)\n",
    "\n",
    "# clean\n",
    "data_CHO = np.nan_to_num(data_CHO, nan=data_CHO[0])\n",
    "data_insulin = np.nan_to_num(data_insulin, nan=data_insulin[0])"
   ]
  },
  {
   "cell_type": "code",
   "execution_count": 5,
   "metadata": {},
   "outputs": [],
   "source": [
    "# load test data\n",
    "test_from_dt = f\"2014-05-09 00:00:00\"\n",
    "test_to_dt = f\"2014-05-10 00:00:00\"\n",
    "\n",
    "# destructure data\n",
    "test_cgm_data, test_meal_data, test_insulin_data = c3r.get_case(deident_id, test_from_dt, test_to_dt)\n",
    "test_data_t, test_data_CGM, test_data_CHO, test_data_insulin = interpolate(test_cgm_data, test_meal_data, test_insulin_data)\n",
    "\n",
    "# normalize time\n",
    "test_data_t -= test_data_t[0]\n",
    "\n",
    "# scale down to minutes\n",
    "test_data_t = test_data_t / 60.0\n",
    "\n",
    "# clean\n",
    "test_data_CHO = np.nan_to_num(test_data_CHO, nan=test_data_CHO[0])\n",
    "test_data_insulin = np.nan_to_num(test_data_insulin, nan=test_data_insulin[0])"
   ]
  },
  {
   "cell_type": "code",
   "execution_count": 6,
   "metadata": {},
   "outputs": [],
   "source": [
    "# load parameters\n",
    "orig_params = pd.read_csv(\"parameters/vpatient_params.csv\")\n",
    "mean_params = orig_params.loc[orig_params[\"Name\"] == \"adult#001\"].squeeze()\n",
    "mean_params = mean_params.rename(lambda x: x.replace(\" \", \"\"))\n",
    "adult_params = orig_params[orig_params.Name.str.contains(\"adult\")]\n",
    "\n",
    "min_params = adult_params.min()\n",
    "max_params = adult_params.max()\n",
    "\n",
    "def get_param(p, p_min, p_max):\n",
    "    # p_min /= 10\n",
    "    # p_max *= 10\n",
    "    return ((np.tanh(p) + 1) / 2) * (p_max - p_min) + p_min"
   ]
  },
  {
   "cell_type": "code",
   "execution_count": 7,
   "metadata": {},
   "outputs": [],
   "source": [
    "in_time = data_t\n",
    "# in_CHO = data_CHO\n",
    "in_CHO = data_CHO / 2\n",
    "# in_insulin = data_insulin\n",
    "in_insulin = np.where(data_insulin > data_insulin[0], data_insulin / 2, data_insulin)\n",
    "\n",
    "def ode(t, x, p):\n",
    "    # instantiate derivatives\n",
    "    dxdt = np.zeros(13)\n",
    "\n",
    "    # destructure params\n",
    "    _kabs, _kmax, _kmin, _k2, _k1, _ki, _kp2, _kp3, _ke1, _kp1 = p\n",
    "\n",
    "    # fixed parameters\n",
    "    params = mean_params\n",
    "    kabs = get_param(_kabs, min_params[\"kabs\"], max_params[\"kabs\"])\n",
    "    kmax = get_param(_kmax, min_params[\"kmax\"], max_params[\"kmax\"])\n",
    "    kmin = get_param(_kmin, min_params[\"kmin\"], max_params[\"kmin\"])\n",
    "    k2 = get_param(_k2, min_params[\"k2\"], max_params[\"k2\"])\n",
    "    k1 = get_param(_k1, min_params[\"k1\"], max_params[\"k1\"])\n",
    "    ki = get_param(_ki, min_params[\"ki\"], max_params[\"ki\"])\n",
    "    kp2 = get_param(_kp2, min_params[\"kp2\"], max_params[\"kp2\"])\n",
    "    kp3 = get_param(_kp3, min_params[\"kp3\"], max_params[\"kp3\"])\n",
    "    ke1 = get_param(_ke1, min_params[\"ke1\"], max_params[\"ke1\"])\n",
    "    kp1 = get_param(_kp1, min_params[\"kp1\"], max_params[\"kp1\"])\n",
    "\n",
    "    # get current action\n",
    "    t_mask = np.abs(in_time - t).argmin()\n",
    "    action = Action(CHO=in_CHO[t_mask], insulin=in_insulin[t_mask])\n",
    "\n",
    "    d = action.CHO * 1000 # g -> mg\n",
    "    insulin = action.insulin * 6000 / params.BW\n",
    "\n",
    "    # glucose in the stomach\n",
    "    qsto = x[0] + x[1]\n",
    "\n",
    "    last_foodtaken = 0\n",
    "    if t_mask > 0:\n",
    "        last_foodtaken = in_CHO[t_mask - 1]\n",
    "    \n",
    "    Dbar = last_foodtaken * 1000 # unit: mg\n",
    "\n",
    "    # stomach solid\n",
    "    dxdt[0] = -kmax * x[0] + d\n",
    "\n",
    "    if Dbar > 0:\n",
    "        aa = 5 / 2 / (1 - params.b) / Dbar\n",
    "        cc = 5 / 2 / params.d / Dbar\n",
    "        kgut = kmin + (kmax - kmin) / 2 * (\n",
    "            np.tanh(aa * (qsto - params.b * Dbar))\n",
    "            - np.tanh(cc * (qsto - params.d * Dbar))\n",
    "            + 2\n",
    "        )\n",
    "    else:\n",
    "        kgut = kmax\n",
    "\n",
    "    # stomach liquid\n",
    "    dxdt[1] = kmax * x[0] - x[1] * kgut\n",
    "\n",
    "    # intestine\n",
    "    dxdt[2] = kgut * x[1] - kabs * x[2]\n",
    "\n",
    "    # Rate of appearance\n",
    "    Rat = params.f * kabs * x[2] / params.BW\n",
    "    # Glucose Production\n",
    "    EGPt = kp1 - kp2 * x[3] - kp3 * x[8]\n",
    "    # Glucose Utilization\n",
    "    Uiit = params.Fsnc\n",
    "\n",
    "    # renal excretion\n",
    "    if x[3] > params.ke2:\n",
    "        Et = ke1 * (x[3] - params.ke2)\n",
    "    else:\n",
    "        Et = 0\n",
    "\n",
    "    # glucose kinetics\n",
    "    # plus dextrose IV injection input u[2] if needed\n",
    "    dxdt[3] = max(EGPt, 0) + Rat - Uiit - Et - k1 * x[3] + k2 * x[4]\n",
    "    dxdt[3] = (x[3] >= 0) * dxdt[3]\n",
    "\n",
    "    Vmt = params.Vm0 + params.Vmx * x[6]\n",
    "    Kmt = params.Km0\n",
    "    Uidt = Vmt * x[4] / (Kmt + x[4])\n",
    "    dxdt[4] = -Uidt + k1 * x[3] - k2 * x[4]\n",
    "    dxdt[4] = (x[4] >= 0) * dxdt[4]\n",
    "\n",
    "    # insulin kinetics\n",
    "    dxdt[5] = (\n",
    "        -(params.m2 + params.m4) * x[5]\n",
    "        + params.m1 * x[9]\n",
    "        + params.ka1 * x[10]\n",
    "        + params.ka2 * x[11]\n",
    "    )  # plus insulin IV injection u[3] if needed\n",
    "    It = x[5] / params.Vi\n",
    "    dxdt[5] = (x[5] >= 0) * dxdt[5]\n",
    "\n",
    "    # insulin action on glucose utilization\n",
    "    dxdt[6] = -params.p2u * x[6] + params.p2u * (It - params.Ib)\n",
    "\n",
    "    # insulin action on production\n",
    "    dxdt[7] = -ki * (x[7] - It)\n",
    "\n",
    "    dxdt[8] = -ki * (x[8] - x[7])\n",
    "\n",
    "    # insulin in the liver (pmol/kg)\n",
    "    dxdt[9] = -(params.m1 + params.m30) * x[9] + params.m2 * x[5]\n",
    "    dxdt[9] = (x[9] >= 0) * dxdt[9]\n",
    "\n",
    "    # subcutaneous insulin kinetics\n",
    "    dxdt[10] = insulin - (params.ka1 + params.kd) * x[10]\n",
    "    dxdt[10] = (x[10] >= 0) * dxdt[10]\n",
    "\n",
    "    dxdt[11] = params.kd * x[10] - params.ka2 * x[11]\n",
    "    dxdt[11] = (x[11] >= 0) * dxdt[11]\n",
    "\n",
    "    # subcutaneous glucose\n",
    "    dxdt[12] = -params.ksc * x[12] + params.ksc * x[3]\n",
    "    dxdt[12] = (x[12] >= 0) * dxdt[12]\n",
    "\n",
    "    return dxdt"
   ]
  },
  {
   "cell_type": "code",
   "execution_count": 8,
   "metadata": {},
   "outputs": [],
   "source": [
    "# initial conditions\n",
    "x_0 = mean_params.iloc[2:15].to_numpy()\n",
    "\n",
    "# timespan\n",
    "tspan = (data_t[0], data_t[-1])\n",
    "t_eval = data_t"
   ]
  },
  {
   "cell_type": "code",
   "execution_count": 9,
   "metadata": {},
   "outputs": [],
   "source": [
    "# initial parameter guess\n",
    "p_guess = np.array([\n",
    "    mean_params[\"kabs\"], \n",
    "    mean_params[\"kmax\"],\n",
    "    mean_params[\"kmin\"],\n",
    "    mean_params[\"k2\"],\n",
    "    mean_params[\"k1\"],\n",
    "    mean_params[\"ki\"],\n",
    "    mean_params[\"kp2\"],\n",
    "    mean_params[\"kp3\"],\n",
    "    mean_params[\"ke1\"],\n",
    "    mean_params[\"kp1\"]\n",
    "])"
   ]
  },
  {
   "cell_type": "code",
   "execution_count": 10,
   "metadata": {},
   "outputs": [],
   "source": [
    "# compute loss for one parameter set\n",
    "def loss(p):\n",
    "    try:\n",
    "        sol = solve_ivp(ode, tspan, x_0, t_eval=t_eval, args=(p,), method=\"BDF\")\n",
    "        sol_CGM = sol.y[12] / mean_params[\"Vg\"]\n",
    "\n",
    "        try:\n",
    "            return [mean_squared_log_error(sol_CGM, data_CGM)]\n",
    "        except:\n",
    "            return [1e10]\n",
    "\n",
    "    except:\n",
    "        print(p)"
   ]
  },
  {
   "attachments": {},
   "cell_type": "markdown",
   "metadata": {},
   "source": [
    "# Optimization"
   ]
  },
  {
   "cell_type": "code",
   "execution_count": 11,
   "metadata": {},
   "outputs": [
    {
     "data": {
      "application/vnd.jupyter.widget-view+json": {
       "model_id": "24d53c68f8c74e3e8f7c9b0499a0a65a",
       "version_major": 2,
       "version_minor": 0
      },
      "text/plain": [
       "  0%|          | 0/200 [00:00<?, ?it/s]"
      ]
     },
     "metadata": {},
     "output_type": "display_data"
    }
   ],
   "source": [
    "# evolutionary algorithm parameters\n",
    "NGEN = 200\n",
    "SIGMA = 5.0\n",
    "LAMBDA = 100\n",
    "\n",
    "# evolutionary algorithm setup\n",
    "creator.create(\"FitnessMin\", base.Fitness, weights=[-1.0])\n",
    "creator.create(\"Individual\", list, fitness=creator.FitnessMin)\n",
    "\n",
    "toolbox = base.Toolbox()\n",
    "toolbox.register(\"evaluate\", loss)\n",
    "\n",
    "# enable multiprocessing\n",
    "pool = mp.Pool()\n",
    "toolbox.register(\"map\", pool.map)\n",
    "\n",
    "# ES\n",
    "strategy = cma.Strategy(centroid=p_guess, sigma=SIGMA, lambda_=LAMBDA)\n",
    "toolbox.register(\"generate\", strategy.generate, creator.Individual)\n",
    "toolbox.register(\"update\", strategy.update)\n",
    "\n",
    "# track best individuals\n",
    "hof = tools.HallOfFame(1)\n",
    "stats = tools.Statistics(lambda i: i.fitness.values)\n",
    "stats.register(\"avg_loss\", np.mean)\n",
    "stats.register(\"min_loss\", np.min)\n",
    "stats.register(\"max_loss\", np.max)\n",
    "\n",
    "# train\n",
    "pbar = trange(NGEN)\n",
    "for _ in pbar:\n",
    "    # generate a new population\n",
    "    population = toolbox.generate()\n",
    "\n",
    "    # evaluate the individuals\n",
    "    fitnesses = toolbox.map(toolbox.evaluate, population)\n",
    "    for ind, fit in zip(population, fitnesses):\n",
    "        ind.fitness.values = fit\n",
    "\n",
    "    if hof is not None:\n",
    "        hof.update(population)\n",
    "\n",
    "    # update the strategy with the evaluated individuals\n",
    "    toolbox.update(population)\n",
    "    record = stats.compile(population) if stats is not None else {}\n",
    "    pbar.set_postfix(min_loss=record[\"min_loss\"])\n",
    "\n",
    "best_params = hof.items[0]"
   ]
  },
  {
   "cell_type": "code",
   "execution_count": 12,
   "metadata": {},
   "outputs": [],
   "source": [
    "# destructure params\n",
    "_kabs, _kmax, _kmin, _k2, _k1, _ki, _kp2, _kp3, _ke1, _kp1 = best_params\n",
    "\n",
    "# fixed parameters\n",
    "kabs = get_param(_kabs, min_params[\"kabs\"], max_params[\"kabs\"])\n",
    "kmax = get_param(_kmax, min_params[\"kmax\"], max_params[\"kmax\"])\n",
    "kmin = get_param(_kmin, min_params[\"kmin\"], max_params[\"kmin\"])\n",
    "k2 = get_param(_k2, min_params[\"k2\"], max_params[\"k2\"])\n",
    "k1 = get_param(_k1, min_params[\"k1\"], max_params[\"k1\"])\n",
    "ki = get_param(_ki, min_params[\"ki\"], max_params[\"ki\"])\n",
    "kp2 = get_param(_kp2, min_params[\"kp2\"], max_params[\"kp2\"])\n",
    "kp3 = get_param(_kp3, min_params[\"kp3\"], max_params[\"kp3\"])\n",
    "ke1 = get_param(_ke1, min_params[\"ke1\"], max_params[\"ke1\"])\n",
    "kp1 = get_param(_kp1, min_params[\"kp1\"], max_params[\"kp1\"])"
   ]
  },
  {
   "cell_type": "code",
   "execution_count": 13,
   "metadata": {},
   "outputs": [
    {
     "name": "stdout",
     "output_type": "stream",
     "text": [
      "Done. Saved to results/best_params_evo.csv\n"
     ]
    }
   ],
   "source": [
    "np.savetxt(\"results/best_params_evo.csv\", np.array((kabs, kmax, kmin, k2, k1, ki, kp2, kp3, ke1, kp1)), delimiter=\",\")\n",
    "print(\"Done. Saved to results/best_params_evo.csv\")"
   ]
  },
  {
   "cell_type": "code",
   "execution_count": 14,
   "metadata": {},
   "outputs": [
    {
     "name": "stdout",
     "output_type": "stream",
     "text": [
      "Done. Saved to results/fit_evo.png\n"
     ]
    },
    {
     "data": {
      "image/png": "[encoded data removed]",
      "text/plain": [
       "<Figure size 1000x600 with 1 Axes>"
      ]
     },
     "metadata": {},
     "output_type": "display_data"
    }
   ],
   "source": [
    "sol = solve_ivp(ode, tspan, x_0, t_eval=t_eval, args=(best_params,))\n",
    "sol_g = solve_ivp(ode, tspan, x_0, t_eval=t_eval, args=(p_guess,))\n",
    "\n",
    "sol_t = sol.t\n",
    "sol_CGM = sol.y[12] / mean_params[\"Vg\"]\n",
    "\n",
    "plt.figure(figsize=(10, 6))\n",
    "plt.plot(data_t, data_CGM, \"r--\")\n",
    "plt.plot(sol_t, sol_CGM, \"b\")\n",
    "plt.savefig(\"results/fit_evo.png\")\n",
    "print(\"Done. Saved to results/fit_evo.png\")"
   ]
  },
  {
   "cell_type": "code",
   "execution_count": null,
   "metadata": {},
   "outputs": [],
   "source": []
  }
 ],
 "metadata": {
  "kernelspec": {
   "display_name": "v",
   "language": "python",
   "name": "python3"
  },
  "language_info": {
   "codemirror_mode": {
    "name": "ipython",
    "version": 3
   },
   "file_extension": ".py",
   "mimetype": "text/x-python",
   "name": "python",
   "nbconvert_exporter": "python",
   "pygments_lexer": "ipython3",
   "version": "3.10.8"
  },
  "orig_nbformat": 4
 },
 "nbformat": 4,
 "nbformat_minor": 2
}
