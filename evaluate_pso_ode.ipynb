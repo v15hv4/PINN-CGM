{
 "cells": [
  {
   "cell_type": "code",
   "execution_count": 1,
   "metadata": {},
   "outputs": [],
   "source": [
    "import numpy as np\n",
    "import pandas as pd\n",
    "import seaborn as sns\n",
    "import multiprocessing as mp\n",
    "import matplotlib.pyplot as plt\n",
    "\n",
    "import pyswarms as ps\n",
    "\n",
    "from utils import dt2int\n",
    "from torchdiffeq import odeint\n",
    "from collections import namedtuple\n",
    "from scipy.integrate import solve_ivp\n",
    "\n",
    "from sklearn.metrics import mean_squared_error, mean_squared_log_error"
   ]
  },
  {
   "cell_type": "code",
   "execution_count": 2,
   "metadata": {},
   "outputs": [],
   "source": [
    "# better plots\n",
    "sns.set_style('whitegrid')"
   ]
  },
  {
   "cell_type": "code",
   "execution_count": 3,
   "metadata": {},
   "outputs": [],
   "source": [
    "# required data structures\n",
    "Action = namedtuple(\"patient_action\", ['CHO', 'insulin'])"
   ]
  },
  {
   "cell_type": "code",
   "execution_count": 4,
   "metadata": {},
   "outputs": [],
   "source": [
    "# read data\n",
    "data = pd.read_csv(\"results/adult#001.csv\")\n",
    "\n",
    "# destructure data\n",
    "data_t = data[\"Time\"].map(lambda d: dt2int(d, fmt=\"%Y-%m-%d %H:%M:%S.%f\")).to_numpy()\n",
    "data_BG = data[\"BG\"].to_numpy()\n",
    "data_CGM = data[\"CGM\"].to_numpy()\n",
    "data_CHO = data[\"CHO\"].to_numpy()\n",
    "data_insulin = data[\"insulin\"].to_numpy()\n",
    "\n",
    "# normalize time\n",
    "data_t -= data_t[0]\n",
    "\n",
    "# scale down to minutes\n",
    "data_t = data_t / 60.0\n",
    "\n",
    "# clean\n",
    "data_CHO = np.nan_to_num(data_CHO, nan=data_CHO[0])\n",
    "data_insulin = np.nan_to_num(data_insulin, nan=data_insulin[0])"
   ]
  },
  {
   "cell_type": "code",
   "execution_count": 5,
   "metadata": {},
   "outputs": [],
   "source": [
    "# load parameters\n",
    "orig_params = pd.read_csv(\"parameters/vpatient_params.csv\")\n",
    "mean_params = orig_params.loc[orig_params[\"Name\"] == \"adult#001\"].squeeze()\n",
    "mean_params = mean_params.rename(lambda x: x.replace(\" \", \"\"))\n",
    "adult_params = orig_params[orig_params.Name.str.contains(\"adult\")]\n",
    "\n",
    "min_params = adult_params.min()\n",
    "max_params = adult_params.max()\n",
    "\n",
    "def get_param(p, p_min, p_max):\n",
    "    return ((np.tanh(p) + 1) / 2) * (p_max - p_min) + p_min"
   ]
  },
  {
   "cell_type": "code",
   "execution_count": 6,
   "metadata": {},
   "outputs": [],
   "source": [
    "in_time = data_t\n",
    "# in_CHO = data_CHO\n",
    "in_CHO = data_CHO / 2\n",
    "# in_insulin = data_insulin\n",
    "in_insulin = np.where(data_insulin > data_insulin[0], data_insulin / 2, data_insulin)\n",
    "\n",
    "def ode(t, x, p):\n",
    "    # instantiate derivatives\n",
    "    dxdt = np.zeros(13)\n",
    "\n",
    "    # destructure params\n",
    "    _kabs, _kmax, _kmin, _k2, _k1, _ki, _kp2, _kp3, _ke1, _kp1 = p\n",
    "\n",
    "    # fixed parameters\n",
    "    params = mean_params\n",
    "    kabs = get_param(_kabs, min_params[\"kabs\"], max_params[\"kabs\"])\n",
    "    kmax = get_param(_kmax, min_params[\"kmax\"], max_params[\"kmax\"])\n",
    "    kmin = get_param(_kmin, min_params[\"kmin\"], max_params[\"kmin\"])\n",
    "    k2 = get_param(_k2, min_params[\"k2\"], max_params[\"k2\"])\n",
    "    k1 = get_param(_k1, min_params[\"k1\"], max_params[\"k1\"])\n",
    "    ki = get_param(_ki, min_params[\"ki\"], max_params[\"ki\"])\n",
    "    kp2 = get_param(_kp2, min_params[\"kp2\"], max_params[\"kp2\"])\n",
    "    kp3 = get_param(_kp3, min_params[\"kp3\"], max_params[\"kp3\"])\n",
    "    ke1 = get_param(_ke1, min_params[\"ke1\"], max_params[\"ke1\"])\n",
    "    kp1 = get_param(_kp1, min_params[\"kp1\"], max_params[\"kp1\"])\n",
    "\n",
    "    # get current action\n",
    "    t_mask = np.abs(in_time - t).argmin()\n",
    "    action = Action(CHO=in_CHO[t_mask], insulin=in_insulin[t_mask])\n",
    "\n",
    "    d = action.CHO * 1000 # g -> mg\n",
    "    insulin = action.insulin * 6000 / params.BW\n",
    "\n",
    "    # glucose in the stomach\n",
    "    qsto = x[0] + x[1]\n",
    "\n",
    "    last_foodtaken = 0\n",
    "    if t_mask > 0:\n",
    "        last_foodtaken = in_CHO[t_mask - 1]\n",
    "    \n",
    "    Dbar = last_foodtaken * 1000 # unit: mg\n",
    "\n",
    "    # stomach solid\n",
    "    dxdt[0] = -kmax * x[0] + d\n",
    "\n",
    "    if Dbar > 0:\n",
    "        aa = 5 / 2 / (1 - params.b) / Dbar\n",
    "        cc = 5 / 2 / params.d / Dbar\n",
    "        kgut = kmin + (kmax - kmin) / 2 * (\n",
    "            np.tanh(aa * (qsto - params.b * Dbar))\n",
    "            - np.tanh(cc * (qsto - params.d * Dbar))\n",
    "            + 2\n",
    "        )\n",
    "    else:\n",
    "        kgut = kmax\n",
    "\n",
    "    # stomach liquid\n",
    "    dxdt[1] = kmax * x[0] - x[1] * kgut\n",
    "\n",
    "    # intestine\n",
    "    dxdt[2] = kgut * x[1] - kabs * x[2]\n",
    "\n",
    "    # Rate of appearance\n",
    "    Rat = params.f * kabs * x[2] / params.BW\n",
    "    # Glucose Production\n",
    "    EGPt = kp1 - kp2 * x[3] - kp3 * x[8]\n",
    "    # Glucose Utilization\n",
    "    Uiit = params.Fsnc\n",
    "\n",
    "    # renal excretion\n",
    "    if x[3] > params.ke2:\n",
    "        Et = ke1 * (x[3] - params.ke2)\n",
    "    else:\n",
    "        Et = 0\n",
    "\n",
    "    # glucose kinetics\n",
    "    # plus dextrose IV injection input u[2] if needed\n",
    "    dxdt[3] = max(EGPt, 0) + Rat - Uiit - Et - k1 * x[3] + k2 * x[4]\n",
    "    dxdt[3] = (x[3] >= 0) * dxdt[3]\n",
    "\n",
    "    Vmt = params.Vm0 + params.Vmx * x[6]\n",
    "    Kmt = params.Km0\n",
    "    Uidt = Vmt * x[4] / (Kmt + x[4])\n",
    "    dxdt[4] = -Uidt + k1 * x[3] - k2 * x[4]\n",
    "    dxdt[4] = (x[4] >= 0) * dxdt[4]\n",
    "\n",
    "    # insulin kinetics\n",
    "    dxdt[5] = (\n",
    "        -(params.m2 + params.m4) * x[5]\n",
    "        + params.m1 * x[9]\n",
    "        + params.ka1 * x[10]\n",
    "        + params.ka2 * x[11]\n",
    "    )  # plus insulin IV injection u[3] if needed\n",
    "    It = x[5] / params.Vi\n",
    "    dxdt[5] = (x[5] >= 0) * dxdt[5]\n",
    "\n",
    "    # insulin action on glucose utilization\n",
    "    dxdt[6] = -params.p2u * x[6] + params.p2u * (It - params.Ib)\n",
    "\n",
    "    # insulin action on production\n",
    "    dxdt[7] = -ki * (x[7] - It)\n",
    "\n",
    "    dxdt[8] = -ki * (x[8] - x[7])\n",
    "\n",
    "    # insulin in the liver (pmol/kg)\n",
    "    dxdt[9] = -(params.m1 + params.m30) * x[9] + params.m2 * x[5]\n",
    "    dxdt[9] = (x[9] >= 0) * dxdt[9]\n",
    "\n",
    "    # subcutaneous insulin kinetics\n",
    "    dxdt[10] = insulin - (params.ka1 + params.kd) * x[10]\n",
    "    dxdt[10] = (x[10] >= 0) * dxdt[10]\n",
    "\n",
    "    dxdt[11] = params.kd * x[10] - params.ka2 * x[11]\n",
    "    dxdt[11] = (x[11] >= 0) * dxdt[11]\n",
    "\n",
    "    # subcutaneous glucose\n",
    "    dxdt[12] = -params.ksc * x[12] + params.ksc * x[3]\n",
    "    dxdt[12] = (x[12] >= 0) * dxdt[12]\n",
    "\n",
    "    return dxdt"
   ]
  },
  {
   "cell_type": "code",
   "execution_count": 7,
   "metadata": {},
   "outputs": [],
   "source": [
    "# initial conditions\n",
    "x_0 = mean_params.iloc[2:15].to_numpy()\n",
    "\n",
    "# timespan\n",
    "tspan = (data_t[0], data_t[-1])\n",
    "t_eval = data_t"
   ]
  },
  {
   "cell_type": "code",
   "execution_count": 8,
   "metadata": {},
   "outputs": [],
   "source": [
    "# initial parameter guess\n",
    "p_guess = np.array([\n",
    "    mean_params[\"kabs\"], \n",
    "    mean_params[\"kmax\"],\n",
    "    mean_params[\"kmin\"],\n",
    "    mean_params[\"k2\"],\n",
    "    mean_params[\"k1\"],\n",
    "    mean_params[\"ki\"],\n",
    "    mean_params[\"kp2\"],\n",
    "    mean_params[\"kp3\"],\n",
    "    mean_params[\"ke1\"],\n",
    "    mean_params[\"kp1\"]\n",
    "])"
   ]
  },
  {
   "cell_type": "code",
   "execution_count": 9,
   "metadata": {},
   "outputs": [],
   "source": [
    "# compute loss for one parameter set\n",
    "def loss(p):\n",
    "    try:\n",
    "        sol = solve_ivp(ode, tspan, x_0, t_eval=t_eval, args=(p,), method=\"BDF\")\n",
    "        sol_CGM = sol.y[12] / mean_params[\"Vg\"]\n",
    "\n",
    "        try:\n",
    "            return mean_squared_log_error(sol_CGM, data_CGM)\n",
    "        except:\n",
    "            return 1e10\n",
    "\n",
    "    except:\n",
    "        print(p)\n",
    "\n",
    "\n",
    "# evaluate the loss function for multiple parameter sets\n",
    "def evaluate(p_set):\n",
    "    with mp.Pool() as p:\n",
    "        losses = p.map(loss, p_set)\n",
    "    losses = np.array(losses)\n",
    "    return losses"
   ]
  },
  {
   "attachments": {},
   "cell_type": "markdown",
   "metadata": {},
   "source": [
    "# Optimization"
   ]
  },
  {
   "cell_type": "code",
   "execution_count": 10,
   "metadata": {},
   "outputs": [
    {
     "name": "stderr",
     "output_type": "stream",
     "text": [
      "2023-05-04 03:10:31,877 - pyswarms.single.global_best - INFO - Optimize for 500 iters with {'c1': 0.5, 'c2': 0.3, 'w': 0.9, 'k': 2, 'p': 2}\n",
      "pyswarms.single.global_best:  98%|█████████▊|490/500, best_cost=0.0112/home2/vishva.saravanan/miniconda3/envs/v/lib/python3.10/site-packages/scipy/integrate/_ivp/bdf.py:407: RuntimeWarning: invalid value encountered in subtract\n",
      "  D[order + 2] = d - D[order + 1]\n",
      "pyswarms.single.global_best: 100%|██████████|500/500, best_cost=0.0112\n",
      "2023-05-04 03:18:51,496 - pyswarms.single.global_best - INFO - Optimization finished | best cost: 0.011214003567884401, best pos: [ 1.704388    0.38280783  1.04447296  1.02285372 -0.67014297  1.02258169\n",
      "  0.13186495  0.46723555  2.1008251  -0.22651689]\n"
     ]
    },
    {
     "name": "stdout",
     "output_type": "stream",
     "text": [
      "Best cost: 0.011214003567884401\n",
      "Best parameters: [ 1.704388    0.38280783  1.04447296  1.02285372 -0.67014297  1.02258169\n",
      "  0.13186495  0.46723555  2.1008251  -0.22651689]\n"
     ]
    }
   ],
   "source": [
    "# PSO algorithm setup\n",
    "# bounds = (p_min, p_max)  # define bounds for each parameter\n",
    "options = {'c1': 0.5, 'c2': 0.3, 'w':0.9, 'k': 2, 'p': 2}\n",
    "\n",
    "# instantiate PSO optimizer\n",
    "optimizer = ps.single.GlobalBestPSO(n_particles=100, dimensions=len(p_guess), options=options) #, bounds=bounds)\n",
    "\n",
    "# perform optimization\n",
    "best_cost, best_params = optimizer.optimize(evaluate, iters=500)\n",
    "\n",
    "# print results\n",
    "print(\"Best cost:\", best_cost)\n",
    "print(\"Best parameters:\", best_params)"
   ]
  },
  {
   "cell_type": "code",
   "execution_count": 11,
   "metadata": {},
   "outputs": [
    {
     "name": "stdout",
     "output_type": "stream",
     "text": [
      "Done. Saved to results/best_params.csv\n"
     ]
    }
   ],
   "source": [
    "np.savetxt(\"results/best_params.csv\", best_params, delimiter=\",\")\n",
    "print(\"Done. Saved to results/best_params.csv\")"
   ]
  },
  {
   "cell_type": "code",
   "execution_count": 12,
   "metadata": {},
   "outputs": [
    {
     "name": "stdout",
     "output_type": "stream",
     "text": [
      "Done. Saved to results/fit.png\n"
     ]
    },
    {
     "data": {
      "image/png": "[encoded data removed]",
      "text/plain": [
       "<Figure size 1000x600 with 1 Axes>"
      ]
     },
     "metadata": {},
     "output_type": "display_data"
    }
   ],
   "source": [
    "sol = solve_ivp(ode, tspan, x_0, t_eval=t_eval, args=(best_params,))\n",
    "sol_g = solve_ivp(ode, tspan, x_0, t_eval=t_eval, args=(p_guess,))\n",
    "\n",
    "sol_t = sol.t\n",
    "sol_CGM = sol.y[12] / mean_params[\"Vg\"]\n",
    "\n",
    "plt.figure(figsize=(10, 6))\n",
    "plt.plot(data_t, data_CGM, \"r--\")\n",
    "plt.plot(sol_t, sol_CGM, \"b\")\n",
    "plt.savefig(\"results/fit.png\")\n",
    "print(\"Done. Saved to results/fit.png\")"
   ]
  }
 ],
 "metadata": {
  "kernelspec": {
   "display_name": "v",
   "language": "python",
   "name": "python3"
  },
  "language_info": {
   "codemirror_mode": {
    "name": "ipython",
    "version": 3
   },
   "file_extension": ".py",
   "mimetype": "text/x-python",
   "name": "python",
   "nbconvert_exporter": "python",
   "pygments_lexer": "ipython3",
   "version": "3.10.8"
  },
  "orig_nbformat": 4
 },
 "nbformat": 4,
 "nbformat_minor": 2
}
